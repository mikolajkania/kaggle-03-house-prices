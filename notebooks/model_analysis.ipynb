{
 "cells": [
  {
   "cell_type": "code",
   "execution_count": 48,
   "metadata": {
    "collapsed": true,
    "pycharm": {
     "name": "#%%\n"
    }
   },
   "outputs": [
    {
     "name": "stdout",
     "output_type": "stream",
     "text": [
      "The autoreload extension is already loaded. To reload it, use:\n",
      "  %reload_ext autoreload\n"
     ]
    }
   ],
   "source": [
    "%load_ext autoreload\n",
    "%autoreload 2\n",
    "\n",
    "import pandas as pd\n",
    "\n",
    "from src.data.handlers import CSVLoader"
   ]
  },
  {
   "cell_type": "code",
   "execution_count": 49,
   "outputs": [
    {
     "data": {
      "text/plain": "   Unnamed: 0         y_pred       y\n0           0  205841.651984  208500\n1           1  183850.938887  181500\n2           2  214597.297125  223500",
      "text/html": "<div>\n<style scoped>\n    .dataframe tbody tr th:only-of-type {\n        vertical-align: middle;\n    }\n\n    .dataframe tbody tr th {\n        vertical-align: top;\n    }\n\n    .dataframe thead th {\n        text-align: right;\n    }\n</style>\n<table border=\"1\" class=\"dataframe\">\n  <thead>\n    <tr style=\"text-align: right;\">\n      <th></th>\n      <th>Unnamed: 0</th>\n      <th>y_pred</th>\n      <th>y</th>\n    </tr>\n  </thead>\n  <tbody>\n    <tr>\n      <th>0</th>\n      <td>0</td>\n      <td>205841.651984</td>\n      <td>208500</td>\n    </tr>\n    <tr>\n      <th>1</th>\n      <td>1</td>\n      <td>183850.938887</td>\n      <td>181500</td>\n    </tr>\n    <tr>\n      <th>2</th>\n      <td>2</td>\n      <td>214597.297125</td>\n      <td>223500</td>\n    </tr>\n  </tbody>\n</table>\n</div>"
     },
     "execution_count": 49,
     "metadata": {},
     "output_type": "execute_result"
    }
   ],
   "source": [
    "csv_loader = CSVLoader('../model_diff.csv')\n",
    "model_diff = csv_loader.load()\n",
    "model_diff.head(3)"
   ],
   "metadata": {
    "collapsed": false,
    "pycharm": {
     "name": "#%%\n"
    }
   }
  },
  {
   "cell_type": "code",
   "execution_count": 50,
   "outputs": [
    {
     "data": {
      "text/plain": "    Unnamed: 0         y_pred       y          diff  gt_higher  pred_higher  \\\n0            0  205841.651984  208500   2658.348016       True        False   \n1            1  183850.938887  181500  -2350.938887      False         True   \n2            2  214597.297125  223500   8902.702875       True        False   \n3            3  150671.647540  140000 -10671.647540      False         True   \n4            4  271290.240176  250000 -21290.240176      False         True   \n..         ...            ...     ...           ...        ...          ...   \n95          95  183643.941793  185000   1356.058207       True        False   \n96          96  227758.468586  214000 -13758.468586      False         True   \n97          97  114422.019603   94750 -19672.019603      False         True   \n98          98   82698.254491   83000    301.745509       True        False   \n99          99  121557.615256  128950   7392.384744       True        False   \n\n    diff_pp  \n0       1.0  \n1       1.0  \n2       4.0  \n3       7.0  \n4       8.0  \n..      ...  \n95      1.0  \n96      6.0  \n97     17.0  \n98      0.0  \n99      6.0  \n\n[100 rows x 7 columns]",
      "text/html": "<div>\n<style scoped>\n    .dataframe tbody tr th:only-of-type {\n        vertical-align: middle;\n    }\n\n    .dataframe tbody tr th {\n        vertical-align: top;\n    }\n\n    .dataframe thead th {\n        text-align: right;\n    }\n</style>\n<table border=\"1\" class=\"dataframe\">\n  <thead>\n    <tr style=\"text-align: right;\">\n      <th></th>\n      <th>Unnamed: 0</th>\n      <th>y_pred</th>\n      <th>y</th>\n      <th>diff</th>\n      <th>gt_higher</th>\n      <th>pred_higher</th>\n      <th>diff_pp</th>\n    </tr>\n  </thead>\n  <tbody>\n    <tr>\n      <th>0</th>\n      <td>0</td>\n      <td>205841.651984</td>\n      <td>208500</td>\n      <td>2658.348016</td>\n      <td>True</td>\n      <td>False</td>\n      <td>1.0</td>\n    </tr>\n    <tr>\n      <th>1</th>\n      <td>1</td>\n      <td>183850.938887</td>\n      <td>181500</td>\n      <td>-2350.938887</td>\n      <td>False</td>\n      <td>True</td>\n      <td>1.0</td>\n    </tr>\n    <tr>\n      <th>2</th>\n      <td>2</td>\n      <td>214597.297125</td>\n      <td>223500</td>\n      <td>8902.702875</td>\n      <td>True</td>\n      <td>False</td>\n      <td>4.0</td>\n    </tr>\n    <tr>\n      <th>3</th>\n      <td>3</td>\n      <td>150671.647540</td>\n      <td>140000</td>\n      <td>-10671.647540</td>\n      <td>False</td>\n      <td>True</td>\n      <td>7.0</td>\n    </tr>\n    <tr>\n      <th>4</th>\n      <td>4</td>\n      <td>271290.240176</td>\n      <td>250000</td>\n      <td>-21290.240176</td>\n      <td>False</td>\n      <td>True</td>\n      <td>8.0</td>\n    </tr>\n    <tr>\n      <th>...</th>\n      <td>...</td>\n      <td>...</td>\n      <td>...</td>\n      <td>...</td>\n      <td>...</td>\n      <td>...</td>\n      <td>...</td>\n    </tr>\n    <tr>\n      <th>95</th>\n      <td>95</td>\n      <td>183643.941793</td>\n      <td>185000</td>\n      <td>1356.058207</td>\n      <td>True</td>\n      <td>False</td>\n      <td>1.0</td>\n    </tr>\n    <tr>\n      <th>96</th>\n      <td>96</td>\n      <td>227758.468586</td>\n      <td>214000</td>\n      <td>-13758.468586</td>\n      <td>False</td>\n      <td>True</td>\n      <td>6.0</td>\n    </tr>\n    <tr>\n      <th>97</th>\n      <td>97</td>\n      <td>114422.019603</td>\n      <td>94750</td>\n      <td>-19672.019603</td>\n      <td>False</td>\n      <td>True</td>\n      <td>17.0</td>\n    </tr>\n    <tr>\n      <th>98</th>\n      <td>98</td>\n      <td>82698.254491</td>\n      <td>83000</td>\n      <td>301.745509</td>\n      <td>True</td>\n      <td>False</td>\n      <td>0.0</td>\n    </tr>\n    <tr>\n      <th>99</th>\n      <td>99</td>\n      <td>121557.615256</td>\n      <td>128950</td>\n      <td>7392.384744</td>\n      <td>True</td>\n      <td>False</td>\n      <td>6.0</td>\n    </tr>\n  </tbody>\n</table>\n<p>100 rows × 7 columns</p>\n</div>"
     },
     "execution_count": 50,
     "metadata": {},
     "output_type": "execute_result"
    }
   ],
   "source": [
    "diff = model_diff['y'] - model_diff['y_pred']\n",
    "gt_higher = diff > 0\n",
    "pred_higher = diff < 0\n",
    "\n",
    "model_diff['diff'] = diff\n",
    "\n",
    "model_diff['gt_higher'] = gt_higher\n",
    "model_diff['pred_higher'] = pred_higher\n",
    "\n",
    "def calc_diff_pp(row):\n",
    "    if row['diff'] > 0:\n",
    "        return (1-round(row['y_pred'] / row['y'], 2))*100\n",
    "    else:\n",
    "        return (1-round(row['y'] / row['y_pred'], 2))*100\n",
    "\n",
    "model_diff['diff_pp'] = model_diff[['diff', 'y', 'y_pred']].apply(calc_diff_pp, axis=1)\n",
    "\n",
    "model_diff.head(100)"
   ],
   "metadata": {
    "collapsed": false,
    "pycharm": {
     "name": "#%%\n"
    }
   }
  },
  {
   "cell_type": "code",
   "execution_count": 51,
   "outputs": [
    {
     "name": "stdout",
     "output_type": "stream",
     "text": [
      "Grand truth value is higher in 723 cases, and predicted value in 737\n"
     ]
    }
   ],
   "source": [
    "print(f'Grand truth value is higher in {gt_higher.sum()} cases, and predicted value in {pred_higher.sum()}')"
   ],
   "metadata": {
    "collapsed": false,
    "pycharm": {
     "name": "#%%\n"
    }
   }
  },
  {
   "cell_type": "code",
   "execution_count": 52,
   "outputs": [
    {
     "name": "stdout",
     "output_type": "stream",
     "text": [
      "Mean diff for Grand Truth=6427.050663727358 and for predicted values=6346.656405815158\n"
     ]
    }
   ],
   "source": [
    "print(f'Mean diff for Grand Truth={model_diff[gt_higher][\"diff\"].mean()} and for predicted values={model_diff[pred_higher][\"diff\"].abs().mean()}')"
   ],
   "metadata": {
    "collapsed": false,
    "pycharm": {
     "name": "#%%\n"
    }
   }
  },
  {
   "cell_type": "code",
   "execution_count": 53,
   "outputs": [
    {
     "name": "stdout",
     "output_type": "stream",
     "text": [
      "Mean percentage diff for Grand Truth=3.4038727524204715 and for predicted values=4.0705563093622805\n"
     ]
    }
   ],
   "source": [
    "print(f'Mean percentage diff for Grand Truth={model_diff[gt_higher][\"diff_pp\"].mean()} and for predicted values={model_diff[pred_higher][\"diff_pp\"].mean()}')"
   ],
   "metadata": {
    "collapsed": false,
    "pycharm": {
     "name": "#%%\n"
    }
   }
  },
  {
   "cell_type": "code",
   "execution_count": 54,
   "outputs": [
    {
     "data": {
      "text/plain": "<AxesSubplot:>"
     },
     "execution_count": 54,
     "metadata": {},
     "output_type": "execute_result"
    },
    {
     "data": {
      "text/plain": "<Figure size 640x480 with 1 Axes>",
      "image/png": "[encoded data removed]"
     },
     "metadata": {},
     "output_type": "display_data"
    }
   ],
   "source": [
    "model_diff[gt_higher].boxplot(column=['diff_pp'])"
   ],
   "metadata": {
    "collapsed": false,
    "pycharm": {
     "name": "#%%\n"
    }
   }
  },
  {
   "cell_type": "code",
   "execution_count": 55,
   "outputs": [
    {
     "data": {
      "text/plain": "<AxesSubplot:>"
     },
     "execution_count": 55,
     "metadata": {},
     "output_type": "execute_result"
    },
    {
     "data": {
      "text/plain": "<Figure size 640x480 with 1 Axes>",
      "image/png": "[encoded data removed]"
     },
     "metadata": {},
     "output_type": "display_data"
    }
   ],
   "source": [
    "model_diff[pred_higher].boxplot(column=['diff_pp'])"
   ],
   "metadata": {
    "collapsed": false,
    "pycharm": {
     "name": "#%%\n"
    }
   }
  }
 ],
 "metadata": {
  "kernelspec": {
   "display_name": "Python 3",
   "language": "python",
   "name": "python3"
  },
  "language_info": {
   "codemirror_mode": {
    "name": "ipython",
    "version": 2
   },
   "file_extension": ".py",
   "mimetype": "text/x-python",
   "name": "python",
   "nbconvert_exporter": "python",
   "pygments_lexer": "ipython2",
   "version": "2.7.6"
  }
 },
 "nbformat": 4,
 "nbformat_minor": 0
}