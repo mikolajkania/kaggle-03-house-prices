{
 "cells": [
  {
   "cell_type": "markdown",
   "source": [
    "# Notebook supporting feature engineering and eda of training set"
   ],
   "metadata": {
    "collapsed": false,
    "pycharm": {
     "name": "#%% md\n"
    }
   }
  },
  {
   "cell_type": "code",
   "execution_count": 43,
   "outputs": [],
   "source": [
    "import pandas as pd"
   ],
   "metadata": {
    "collapsed": false,
    "pycharm": {
     "name": "#%%\n"
    }
   }
  },
  {
   "cell_type": "code",
   "execution_count": 44,
   "outputs": [
    {
     "data": {
      "text/plain": "   Id  MSSubClass MSZoning  LotFrontage  LotArea Street Alley LotShape  \\\n0   1          60       RL         65.0     8450   Pave   NaN      Reg   \n1   2          20       RL         80.0     9600   Pave   NaN      Reg   \n2   3          60       RL         68.0    11250   Pave   NaN      IR1   \n3   4          70       RL         60.0     9550   Pave   NaN      IR1   \n4   5          60       RL         84.0    14260   Pave   NaN      IR1   \n\n  LandContour Utilities  ... PoolArea PoolQC Fence MiscFeature MiscVal MoSold  \\\n0         Lvl    AllPub  ...        0    NaN   NaN         NaN       0      2   \n1         Lvl    AllPub  ...        0    NaN   NaN         NaN       0      5   \n2         Lvl    AllPub  ...        0    NaN   NaN         NaN       0      9   \n3         Lvl    AllPub  ...        0    NaN   NaN         NaN       0      2   \n4         Lvl    AllPub  ...        0    NaN   NaN         NaN       0     12   \n\n  YrSold  SaleType  SaleCondition  SalePrice  \n0   2008        WD         Normal     208500  \n1   2007        WD         Normal     181500  \n2   2008        WD         Normal     223500  \n3   2006        WD        Abnorml     140000  \n4   2008        WD         Normal     250000  \n\n[5 rows x 81 columns]",
      "text/html": "<div>\n<style scoped>\n    .dataframe tbody tr th:only-of-type {\n        vertical-align: middle;\n    }\n\n    .dataframe tbody tr th {\n        vertical-align: top;\n    }\n\n    .dataframe thead th {\n        text-align: right;\n    }\n</style>\n<table border=\"1\" class=\"dataframe\">\n  <thead>\n    <tr style=\"text-align: right;\">\n      <th></th>\n      <th>Id</th>\n      <th>MSSubClass</th>\n      <th>MSZoning</th>\n      <th>LotFrontage</th>\n      <th>LotArea</th>\n      <th>Street</th>\n      <th>Alley</th>\n      <th>LotShape</th>\n      <th>LandContour</th>\n      <th>Utilities</th>\n      <th>...</th>\n      <th>PoolArea</th>\n      <th>PoolQC</th>\n      <th>Fence</th>\n      <th>MiscFeature</th>\n      <th>MiscVal</th>\n      <th>MoSold</th>\n      <th>YrSold</th>\n      <th>SaleType</th>\n      <th>SaleCondition</th>\n      <th>SalePrice</th>\n    </tr>\n  </thead>\n  <tbody>\n    <tr>\n      <th>0</th>\n      <td>1</td>\n      <td>60</td>\n      <td>RL</td>\n      <td>65.0</td>\n      <td>8450</td>\n      <td>Pave</td>\n      <td>NaN</td>\n      <td>Reg</td>\n      <td>Lvl</td>\n      <td>AllPub</td>\n      <td>...</td>\n      <td>0</td>\n      <td>NaN</td>\n      <td>NaN</td>\n      <td>NaN</td>\n      <td>0</td>\n      <td>2</td>\n      <td>2008</td>\n      <td>WD</td>\n      <td>Normal</td>\n      <td>208500</td>\n    </tr>\n    <tr>\n      <th>1</th>\n      <td>2</td>\n      <td>20</td>\n      <td>RL</td>\n      <td>80.0</td>\n      <td>9600</td>\n      <td>Pave</td>\n      <td>NaN</td>\n      <td>Reg</td>\n      <td>Lvl</td>\n      <td>AllPub</td>\n      <td>...</td>\n      <td>0</td>\n      <td>NaN</td>\n      <td>NaN</td>\n      <td>NaN</td>\n      <td>0</td>\n      <td>5</td>\n      <td>2007</td>\n      <td>WD</td>\n      <td>Normal</td>\n      <td>181500</td>\n    </tr>\n    <tr>\n      <th>2</th>\n      <td>3</td>\n      <td>60</td>\n      <td>RL</td>\n      <td>68.0</td>\n      <td>11250</td>\n      <td>Pave</td>\n      <td>NaN</td>\n      <td>IR1</td>\n      <td>Lvl</td>\n      <td>AllPub</td>\n      <td>...</td>\n      <td>0</td>\n      <td>NaN</td>\n      <td>NaN</td>\n      <td>NaN</td>\n      <td>0</td>\n      <td>9</td>\n      <td>2008</td>\n      <td>WD</td>\n      <td>Normal</td>\n      <td>223500</td>\n    </tr>\n    <tr>\n      <th>3</th>\n      <td>4</td>\n      <td>70</td>\n      <td>RL</td>\n      <td>60.0</td>\n      <td>9550</td>\n      <td>Pave</td>\n      <td>NaN</td>\n      <td>IR1</td>\n      <td>Lvl</td>\n      <td>AllPub</td>\n      <td>...</td>\n      <td>0</td>\n      <td>NaN</td>\n      <td>NaN</td>\n      <td>NaN</td>\n      <td>0</td>\n      <td>2</td>\n      <td>2006</td>\n      <td>WD</td>\n      <td>Abnorml</td>\n      <td>140000</td>\n    </tr>\n    <tr>\n      <th>4</th>\n      <td>5</td>\n      <td>60</td>\n      <td>RL</td>\n      <td>84.0</td>\n      <td>14260</td>\n      <td>Pave</td>\n      <td>NaN</td>\n      <td>IR1</td>\n      <td>Lvl</td>\n      <td>AllPub</td>\n      <td>...</td>\n      <td>0</td>\n      <td>NaN</td>\n      <td>NaN</td>\n      <td>NaN</td>\n      <td>0</td>\n      <td>12</td>\n      <td>2008</td>\n      <td>WD</td>\n      <td>Normal</td>\n      <td>250000</td>\n    </tr>\n  </tbody>\n</table>\n<p>5 rows × 81 columns</p>\n</div>"
     },
     "execution_count": 44,
     "metadata": {},
     "output_type": "execute_result"
    }
   ],
   "source": [
    "train_df: pd.DataFrame = pd.read_csv('../data/train.csv')\n",
    "train_df.head()"
   ],
   "metadata": {
    "collapsed": false,
    "pycharm": {
     "name": "#%%\n"
    }
   }
  },
  {
   "cell_type": "markdown",
   "source": [
    "## Numeric columns explorations"
   ],
   "metadata": {
    "collapsed": false,
    "pycharm": {
     "name": "#%% md\n"
    }
   }
  },
  {
   "cell_type": "markdown",
   "source": [
    "- Quite a lot of outliers, especially on max side\n",
    "- Values on different scales"
   ],
   "metadata": {
    "collapsed": false,
    "pycharm": {
     "name": "#%% md\n"
    }
   }
  },
  {
   "cell_type": "code",
   "execution_count": 45,
   "outputs": [
    {
     "data": {
      "text/plain": "Index(['Id', 'MSSubClass', 'MSZoning', 'LotFrontage', 'LotArea', 'Street',\n       'Alley', 'LotShape', 'LandContour', 'Utilities', 'LotConfig',\n       'LandSlope', 'Neighborhood', 'Condition1', 'Condition2', 'BldgType',\n       'HouseStyle', 'OverallQual', 'OverallCond', 'YearBuilt', 'YearRemodAdd',\n       'RoofStyle', 'RoofMatl', 'Exterior1st', 'Exterior2nd', 'MasVnrType',\n       'MasVnrArea', 'ExterQual', 'ExterCond', 'Foundation', 'BsmtQual',\n       'BsmtCond', 'BsmtExposure', 'BsmtFinType1', 'BsmtFinSF1',\n       'BsmtFinType2', 'BsmtFinSF2', 'BsmtUnfSF', 'TotalBsmtSF', 'Heating',\n       'HeatingQC', 'CentralAir', 'Electrical', '1stFlrSF', '2ndFlrSF',\n       'LowQualFinSF', 'GrLivArea', 'BsmtFullBath', 'BsmtHalfBath', 'FullBath',\n       'HalfBath', 'BedroomAbvGr', 'KitchenAbvGr', 'KitchenQual',\n       'TotRmsAbvGrd', 'Functional', 'Fireplaces', 'FireplaceQu', 'GarageType',\n       'GarageYrBlt', 'GarageFinish', 'GarageCars', 'GarageArea', 'GarageQual',\n       'GarageCond', 'PavedDrive', 'WoodDeckSF', 'OpenPorchSF',\n       'EnclosedPorch', '3SsnPorch', 'ScreenPorch', 'PoolArea', 'PoolQC',\n       'Fence', 'MiscFeature', 'MiscVal', 'MoSold', 'YrSold', 'SaleType',\n       'SaleCondition', 'SalePrice'],\n      dtype='object')"
     },
     "execution_count": 45,
     "metadata": {},
     "output_type": "execute_result"
    }
   ],
   "source": [
    "train_df.columns"
   ],
   "metadata": {
    "collapsed": false,
    "pycharm": {
     "name": "#%%\n"
    }
   }
  },
  {
   "cell_type": "code",
   "execution_count": 46,
   "outputs": [
    {
     "data": {
      "text/plain": "   Id  MSSubClass  MSZoning  LotFrontage  LotArea  Street  Alley  LotShape  \\\n0   1          60         0         65.0     8450       0     -1         0   \n1   2          20         0         80.0     9600       0     -1         0   \n2   3          60         0         68.0    11250       0     -1         1   \n3   4          70         0         60.0     9550       0     -1         1   \n4   5          60         0         84.0    14260       0     -1         1   \n\n   LandContour  Utilities  ...  PoolArea  PoolQC  Fence  MiscFeature  MiscVal  \\\n0            0          0  ...         0      -1     -1           -1        0   \n1            0          0  ...         0      -1     -1           -1        0   \n2            0          0  ...         0      -1     -1           -1        0   \n3            0          0  ...         0      -1     -1           -1        0   \n4            0          0  ...         0      -1     -1           -1        0   \n\n   MoSold  YrSold  SaleType  SaleCondition  SalePrice  \n0       2    2008         0              0     208500  \n1       5    2007         0              0     181500  \n2       9    2008         0              0     223500  \n3       2    2006         0              1     140000  \n4      12    2008         0              0     250000  \n\n[5 rows x 81 columns]",
      "text/html": "<div>\n<style scoped>\n    .dataframe tbody tr th:only-of-type {\n        vertical-align: middle;\n    }\n\n    .dataframe tbody tr th {\n        vertical-align: top;\n    }\n\n    .dataframe thead th {\n        text-align: right;\n    }\n</style>\n<table border=\"1\" class=\"dataframe\">\n  <thead>\n    <tr style=\"text-align: right;\">\n      <th></th>\n      <th>Id</th>\n      <th>MSSubClass</th>\n      <th>MSZoning</th>\n      <th>LotFrontage</th>\n      <th>LotArea</th>\n      <th>Street</th>\n      <th>Alley</th>\n      <th>LotShape</th>\n      <th>LandContour</th>\n      <th>Utilities</th>\n      <th>...</th>\n      <th>PoolArea</th>\n      <th>PoolQC</th>\n      <th>Fence</th>\n      <th>MiscFeature</th>\n      <th>MiscVal</th>\n      <th>MoSold</th>\n      <th>YrSold</th>\n      <th>SaleType</th>\n      <th>SaleCondition</th>\n      <th>SalePrice</th>\n    </tr>\n  </thead>\n  <tbody>\n    <tr>\n      <th>0</th>\n      <td>1</td>\n      <td>60</td>\n      <td>0</td>\n      <td>65.0</td>\n      <td>8450</td>\n      <td>0</td>\n      <td>-1</td>\n      <td>0</td>\n      <td>0</td>\n      <td>0</td>\n      <td>...</td>\n      <td>0</td>\n      <td>-1</td>\n      <td>-1</td>\n      <td>-1</td>\n      <td>0</td>\n      <td>2</td>\n      <td>2008</td>\n      <td>0</td>\n      <td>0</td>\n      <td>208500</td>\n    </tr>\n    <tr>\n      <th>1</th>\n      <td>2</td>\n      <td>20</td>\n      <td>0</td>\n      <td>80.0</td>\n      <td>9600</td>\n      <td>0</td>\n      <td>-1</td>\n      <td>0</td>\n      <td>0</td>\n      <td>0</td>\n      <td>...</td>\n      <td>0</td>\n      <td>-1</td>\n      <td>-1</td>\n      <td>-1</td>\n      <td>0</td>\n      <td>5</td>\n      <td>2007</td>\n      <td>0</td>\n      <td>0</td>\n      <td>181500</td>\n    </tr>\n    <tr>\n      <th>2</th>\n      <td>3</td>\n      <td>60</td>\n      <td>0</td>\n      <td>68.0</td>\n      <td>11250</td>\n      <td>0</td>\n      <td>-1</td>\n      <td>1</td>\n      <td>0</td>\n      <td>0</td>\n      <td>...</td>\n      <td>0</td>\n      <td>-1</td>\n      <td>-1</td>\n      <td>-1</td>\n      <td>0</td>\n      <td>9</td>\n      <td>2008</td>\n      <td>0</td>\n      <td>0</td>\n      <td>223500</td>\n    </tr>\n    <tr>\n      <th>3</th>\n      <td>4</td>\n      <td>70</td>\n      <td>0</td>\n      <td>60.0</td>\n      <td>9550</td>\n      <td>0</td>\n      <td>-1</td>\n      <td>1</td>\n      <td>0</td>\n      <td>0</td>\n      <td>...</td>\n      <td>0</td>\n      <td>-1</td>\n      <td>-1</td>\n      <td>-1</td>\n      <td>0</td>\n      <td>2</td>\n      <td>2006</td>\n      <td>0</td>\n      <td>1</td>\n      <td>140000</td>\n    </tr>\n    <tr>\n      <th>4</th>\n      <td>5</td>\n      <td>60</td>\n      <td>0</td>\n      <td>84.0</td>\n      <td>14260</td>\n      <td>0</td>\n      <td>-1</td>\n      <td>1</td>\n      <td>0</td>\n      <td>0</td>\n      <td>...</td>\n      <td>0</td>\n      <td>-1</td>\n      <td>-1</td>\n      <td>-1</td>\n      <td>0</td>\n      <td>12</td>\n      <td>2008</td>\n      <td>0</td>\n      <td>0</td>\n      <td>250000</td>\n    </tr>\n  </tbody>\n</table>\n<p>5 rows × 81 columns</p>\n</div>"
     },
     "execution_count": 46,
     "metadata": {},
     "output_type": "execute_result"
    }
   ],
   "source": [
    "for col in train_df.columns:\n",
    "    if pd.api.types.is_string_dtype(train_df[col].dtype):\n",
    "        train_df[col] = pd.factorize(train_df[col])[0]\n",
    "\n",
    "train_df.head()"
   ],
   "metadata": {
    "collapsed": false,
    "pycharm": {
     "name": "#%%\n"
    }
   }
  },
  {
   "cell_type": "code",
   "execution_count": 47,
   "outputs": [
    {
     "data": {
      "text/plain": "                Id   MSSubClass     MSZoning  LotFrontage        LotArea  \\\ncount  1460.000000  1460.000000  1460.000000  1201.000000    1460.000000   \nmean    730.500000    56.897260     0.340411    70.049958   10516.828082   \nstd     421.610009    42.300571     0.798309    24.284752    9981.264932   \nmin       1.000000    20.000000     0.000000    21.000000    1300.000000   \n25%     365.750000    20.000000     0.000000    59.000000    7553.500000   \n50%     730.500000    50.000000     0.000000    69.000000    9478.500000   \n75%    1095.250000    70.000000     0.000000    80.000000   11601.500000   \nmax    1460.000000   190.000000     4.000000   313.000000  215245.000000   \n\n            Street        Alley     LotShape  LandContour    Utilities  ...  \\\ncount  1460.000000  1460.000000  1460.000000  1460.000000  1460.000000  ...   \nmean      0.004110    -0.909589     0.408219     0.195205     0.000685  ...   \nstd       0.063996     0.372151     0.582296     0.642010     0.026171  ...   \nmin       0.000000    -1.000000     0.000000     0.000000     0.000000  ...   \n25%       0.000000    -1.000000     0.000000     0.000000     0.000000  ...   \n50%       0.000000    -1.000000     0.000000     0.000000     0.000000  ...   \n75%       0.000000    -1.000000     1.000000     0.000000     0.000000  ...   \nmax       1.000000     1.000000     3.000000     3.000000     1.000000  ...   \n\n          PoolArea       PoolQC        Fence  MiscFeature       MiscVal  \\\ncount  1460.000000  1460.000000  1460.000000  1460.000000   1460.000000   \nmean      2.758904    -0.989726    -0.667123    -0.956849     43.489041   \nstd      40.177307     0.158916     0.793316     0.245984    496.123024   \nmin       0.000000    -1.000000    -1.000000    -1.000000      0.000000   \n25%       0.000000    -1.000000    -1.000000    -1.000000      0.000000   \n50%       0.000000    -1.000000    -1.000000    -1.000000      0.000000   \n75%       0.000000    -1.000000    -1.000000    -1.000000      0.000000   \nmax     738.000000     2.000000     3.000000     3.000000  15500.000000   \n\n            MoSold       YrSold     SaleType  SaleCondition      SalePrice  \ncount  1460.000000  1460.000000  1460.000000     1460.00000    1460.000000  \nmean      6.321918  2007.815753     0.234932        0.35000  180921.195890  \nstd       2.703626     1.328095     0.804553        0.88787   79442.502883  \nmin       1.000000  2006.000000     0.000000        0.00000   34900.000000  \n25%       5.000000  2007.000000     0.000000        0.00000  129975.000000  \n50%       6.000000  2008.000000     0.000000        0.00000  163000.000000  \n75%       8.000000  2009.000000     0.000000        0.00000  214000.000000  \nmax      12.000000  2010.000000     8.000000        5.00000  755000.000000  \n\n[8 rows x 81 columns]",
      "text/html": "<div>\n<style scoped>\n    .dataframe tbody tr th:only-of-type {\n        vertical-align: middle;\n    }\n\n    .dataframe tbody tr th {\n        vertical-align: top;\n    }\n\n    .dataframe thead th {\n        text-align: right;\n    }\n</style>\n<table border=\"1\" class=\"dataframe\">\n  <thead>\n    <tr style=\"text-align: right;\">\n      <th></th>\n      <th>Id</th>\n      <th>MSSubClass</th>\n      <th>MSZoning</th>\n      <th>LotFrontage</th>\n      <th>LotArea</th>\n      <th>Street</th>\n      <th>Alley</th>\n      <th>LotShape</th>\n      <th>LandContour</th>\n      <th>Utilities</th>\n      <th>...</th>\n      <th>PoolArea</th>\n      <th>PoolQC</th>\n      <th>Fence</th>\n      <th>MiscFeature</th>\n      <th>MiscVal</th>\n      <th>MoSold</th>\n      <th>YrSold</th>\n      <th>SaleType</th>\n      <th>SaleCondition</th>\n      <th>SalePrice</th>\n    </tr>\n  </thead>\n  <tbody>\n    <tr>\n      <th>count</th>\n      <td>1460.000000</td>\n      <td>1460.000000</td>\n      <td>1460.000000</td>\n      <td>1201.000000</td>\n      <td>1460.000000</td>\n      <td>1460.000000</td>\n      <td>1460.000000</td>\n      <td>1460.000000</td>\n      <td>1460.000000</td>\n      <td>1460.000000</td>\n      <td>...</td>\n      <td>1460.000000</td>\n      <td>1460.000000</td>\n      <td>1460.000000</td>\n      <td>1460.000000</td>\n      <td>1460.000000</td>\n      <td>1460.000000</td>\n      <td>1460.000000</td>\n      <td>1460.000000</td>\n      <td>1460.00000</td>\n      <td>1460.000000</td>\n    </tr>\n    <tr>\n      <th>mean</th>\n      <td>730.500000</td>\n      <td>56.897260</td>\n      <td>0.340411</td>\n      <td>70.049958</td>\n      <td>10516.828082</td>\n      <td>0.004110</td>\n      <td>-0.909589</td>\n      <td>0.408219</td>\n      <td>0.195205</td>\n      <td>0.000685</td>\n      <td>...</td>\n      <td>2.758904</td>\n      <td>-0.989726</td>\n      <td>-0.667123</td>\n      <td>-0.956849</td>\n      <td>43.489041</td>\n      <td>6.321918</td>\n      <td>2007.815753</td>\n      <td>0.234932</td>\n      <td>0.35000</td>\n      <td>180921.195890</td>\n    </tr>\n    <tr>\n      <th>std</th>\n      <td>421.610009</td>\n      <td>42.300571</td>\n      <td>0.798309</td>\n      <td>24.284752</td>\n      <td>9981.264932</td>\n      <td>0.063996</td>\n      <td>0.372151</td>\n      <td>0.582296</td>\n      <td>0.642010</td>\n      <td>0.026171</td>\n      <td>...</td>\n      <td>40.177307</td>\n      <td>0.158916</td>\n      <td>0.793316</td>\n      <td>0.245984</td>\n      <td>496.123024</td>\n      <td>2.703626</td>\n      <td>1.328095</td>\n      <td>0.804553</td>\n      <td>0.88787</td>\n      <td>79442.502883</td>\n    </tr>\n    <tr>\n      <th>min</th>\n      <td>1.000000</td>\n      <td>20.000000</td>\n      <td>0.000000</td>\n      <td>21.000000</td>\n      <td>1300.000000</td>\n      <td>0.000000</td>\n      <td>-1.000000</td>\n      <td>0.000000</td>\n      <td>0.000000</td>\n      <td>0.000000</td>\n      <td>...</td>\n      <td>0.000000</td>\n      <td>-1.000000</td>\n      <td>-1.000000</td>\n      <td>-1.000000</td>\n      <td>0.000000</td>\n      <td>1.000000</td>\n      <td>2006.000000</td>\n      <td>0.000000</td>\n      <td>0.00000</td>\n      <td>34900.000000</td>\n    </tr>\n    <tr>\n      <th>25%</th>\n      <td>365.750000</td>\n      <td>20.000000</td>\n      <td>0.000000</td>\n      <td>59.000000</td>\n      <td>7553.500000</td>\n      <td>0.000000</td>\n      <td>-1.000000</td>\n      <td>0.000000</td>\n      <td>0.000000</td>\n      <td>0.000000</td>\n      <td>...</td>\n      <td>0.000000</td>\n      <td>-1.000000</td>\n      <td>-1.000000</td>\n      <td>-1.000000</td>\n      <td>0.000000</td>\n      <td>5.000000</td>\n      <td>2007.000000</td>\n      <td>0.000000</td>\n      <td>0.00000</td>\n      <td>129975.000000</td>\n    </tr>\n    <tr>\n      <th>50%</th>\n      <td>730.500000</td>\n      <td>50.000000</td>\n      <td>0.000000</td>\n      <td>69.000000</td>\n      <td>9478.500000</td>\n      <td>0.000000</td>\n      <td>-1.000000</td>\n      <td>0.000000</td>\n      <td>0.000000</td>\n      <td>0.000000</td>\n      <td>...</td>\n      <td>0.000000</td>\n      <td>-1.000000</td>\n      <td>-1.000000</td>\n      <td>-1.000000</td>\n      <td>0.000000</td>\n      <td>6.000000</td>\n      <td>2008.000000</td>\n      <td>0.000000</td>\n      <td>0.00000</td>\n      <td>163000.000000</td>\n    </tr>\n    <tr>\n      <th>75%</th>\n      <td>1095.250000</td>\n      <td>70.000000</td>\n      <td>0.000000</td>\n      <td>80.000000</td>\n      <td>11601.500000</td>\n      <td>0.000000</td>\n      <td>-1.000000</td>\n      <td>1.000000</td>\n      <td>0.000000</td>\n      <td>0.000000</td>\n      <td>...</td>\n      <td>0.000000</td>\n      <td>-1.000000</td>\n      <td>-1.000000</td>\n      <td>-1.000000</td>\n      <td>0.000000</td>\n      <td>8.000000</td>\n      <td>2009.000000</td>\n      <td>0.000000</td>\n      <td>0.00000</td>\n      <td>214000.000000</td>\n    </tr>\n    <tr>\n      <th>max</th>\n      <td>1460.000000</td>\n      <td>190.000000</td>\n      <td>4.000000</td>\n      <td>313.000000</td>\n      <td>215245.000000</td>\n      <td>1.000000</td>\n      <td>1.000000</td>\n      <td>3.000000</td>\n      <td>3.000000</td>\n      <td>1.000000</td>\n      <td>...</td>\n      <td>738.000000</td>\n      <td>2.000000</td>\n      <td>3.000000</td>\n      <td>3.000000</td>\n      <td>15500.000000</td>\n      <td>12.000000</td>\n      <td>2010.000000</td>\n      <td>8.000000</td>\n      <td>5.00000</td>\n      <td>755000.000000</td>\n    </tr>\n  </tbody>\n</table>\n<p>8 rows × 81 columns</p>\n</div>"
     },
     "execution_count": 47,
     "metadata": {},
     "output_type": "execute_result"
    }
   ],
   "source": [
    "train_df.describe()"
   ],
   "metadata": {
    "collapsed": false,
    "pycharm": {
     "name": "#%%\n"
    }
   }
  },
  {
   "cell_type": "markdown",
   "source": [
    "#### Replace text content (string values) with numerical one"
   ],
   "metadata": {
    "collapsed": false,
    "pycharm": {
     "name": "#%% md\n"
    }
   }
  },
  {
   "cell_type": "markdown",
   "source": [
    "# Nulls and uniqueness"
   ],
   "metadata": {
    "collapsed": false,
    "pycharm": {
     "name": "#%% md\n"
    }
   }
  },
  {
   "cell_type": "markdown",
   "source": [
    "- 17 columns with null values\n",
    "- Strategy to fill missing values needed\n",
    "- Features differ a lot in number of unique values\n",
    "- Some features could benefit from values grouping (years, area)"
   ],
   "metadata": {
    "collapsed": false,
    "pycharm": {
     "name": "#%% md\n"
    }
   }
  },
  {
   "cell_type": "code",
   "source": [
    "train_df.isnull().sum()"
   ],
   "metadata": {
    "collapsed": false,
    "pycharm": {
     "name": "#%%\n"
    }
   },
   "execution_count": 48,
   "outputs": [
    {
     "data": {
      "text/plain": "Id                 0\nMSSubClass         0\nMSZoning           0\nLotFrontage      259\nLotArea            0\n                ... \nMoSold             0\nYrSold             0\nSaleType           0\nSaleCondition      0\nSalePrice          0\nLength: 81, dtype: int64"
     },
     "execution_count": 48,
     "metadata": {},
     "output_type": "execute_result"
    }
   ]
  },
  {
   "cell_type": "code",
   "execution_count": 49,
   "outputs": [
    {
     "data": {
      "text/plain": "Id               1460\nMSSubClass         15\nMSZoning            5\nLotFrontage       110\nLotArea          1073\n                 ... \nMoSold             12\nYrSold              5\nSaleType            9\nSaleCondition       6\nSalePrice         663\nLength: 81, dtype: int64"
     },
     "execution_count": 49,
     "metadata": {},
     "output_type": "execute_result"
    }
   ],
   "source": [
    "train_df.nunique()"
   ],
   "metadata": {
    "collapsed": false,
    "pycharm": {
     "name": "#%%\n"
    }
   }
  },
  {
   "cell_type": "markdown",
   "source": [
    "## Correlation between features"
   ],
   "metadata": {
    "collapsed": false,
    "pycharm": {
     "name": "#%% md\n"
    }
   }
  },
  {
   "cell_type": "markdown",
   "source": [
    "- Should be redone after features grouping\n",
    "- There are already high correlation between some features"
   ],
   "metadata": {
    "collapsed": false,
    "pycharm": {
     "name": "#%% md\n"
    }
   }
  },
  {
   "cell_type": "code",
   "execution_count": 50,
   "outputs": [
    {
     "data": {
      "text/plain": "                     Id  MSSubClass  MSZoning  LotFrontage   LotArea  \\\nId             1.000000    0.011156 -0.011949    -0.010601 -0.033226   \nMSSubClass     0.011156    1.000000  0.286937    -0.386347 -0.139781   \nMSZoning      -0.011949    0.286937  1.000000    -0.248800 -0.161640   \nLotFrontage   -0.010601   -0.386347 -0.248800     1.000000  0.426095   \nLotArea       -0.033226   -0.139781 -0.161640     0.426095  1.000000   \n...                 ...         ...       ...          ...       ...   \nMoSold         0.021172   -0.013585  0.022231     0.011200  0.001205   \nYrSold         0.000712   -0.021407 -0.010621     0.007450 -0.014261   \nSaleType      -0.016932    0.012874  0.058948     0.006370 -0.013882   \nSaleCondition -0.017712   -0.015047  0.068705     0.072517  0.000199   \nSalePrice     -0.021917   -0.084284 -0.116047     0.351799  0.263843   \n\n                 Street     Alley  LotShape  LandContour  Utilities  ...  \\\nId            -0.008916 -0.000293 -0.024071     0.014769   0.013324  ...   \nMSSubClass     0.024969  0.179144 -0.115361    -0.018947  -0.022844  ...   \nMSZoning       0.039678  0.399270 -0.167918    -0.013396  -0.011167  ...   \nLotFrontage    0.040886 -0.190957  0.231878     0.096766        NaN  ...   \nLotArea        0.197131 -0.083668  0.315484     0.258792   0.010123  ...   \n...                 ...       ...       ...          ...        ...  ...   \nMoSold        -0.003690 -0.021453  0.026617     0.063280  -0.051552  ...   \nYrSold         0.025043 -0.012036 -0.037391    -0.026117   0.023353  ...   \nSaleType       0.021171 -0.000025  0.001435    -0.014537   0.057455  ...   \nSaleCondition  0.022919  0.026551 -0.004773     0.062826   0.019173  ...   \nSalePrice     -0.041036 -0.092607  0.267759     0.092009  -0.014314  ...   \n\n               PoolArea    PoolQC     Fence  MiscFeature   MiscVal    MoSold  \\\nId             0.057044  0.066509  0.005029    -0.014074 -0.006242  0.021172   \nMSSubClass     0.008283  0.010353 -0.080209    -0.016437 -0.007683 -0.013585   \nMSZoning      -0.029301 -0.027587 -0.074069    -0.029479 -0.021573  0.022231   \nLotFrontage    0.206167  0.219815  0.037457     0.007872  0.003368  0.011200   \nLotArea        0.077672  0.093908 -0.030856     0.089707  0.038068  0.001205   \n...                 ...       ...       ...          ...       ...       ...   \nMoSold        -0.033737 -0.033227  0.011360     0.019292 -0.006495  1.000000   \nYrSold        -0.059689 -0.046232  0.012714     0.043235  0.004906 -0.145721   \nSaleType      -0.009887 -0.002809 -0.027036     0.014543 -0.014143  0.040201   \nSaleCondition  0.068578  0.071651 -0.032209    -0.047231 -0.032655  0.054679   \nSalePrice      0.092404  0.051364 -0.128700    -0.061128 -0.021190  0.046432   \n\n                 YrSold  SaleType  SaleCondition  SalePrice  \nId             0.000712 -0.016932      -0.017712  -0.021917  \nMSSubClass    -0.021407  0.012874      -0.015047  -0.084284  \nMSZoning      -0.010621  0.058948       0.068705  -0.116047  \nLotFrontage    0.007450  0.006370       0.072517   0.351799  \nLotArea       -0.014261 -0.013882       0.000199   0.263843  \n...                 ...       ...            ...        ...  \nMoSold        -0.145721  0.040201       0.054679   0.046432  \nYrSold         1.000000 -0.021683      -0.123720  -0.028923  \nSaleType      -0.021683  1.000000       0.232149   0.072896  \nSaleCondition -0.123720  0.232149       1.000000   0.142503  \nSalePrice     -0.028923  0.072896       0.142503   1.000000  \n\n[81 rows x 81 columns]",
      "text/html": "<div>\n<style scoped>\n    .dataframe tbody tr th:only-of-type {\n        vertical-align: middle;\n    }\n\n    .dataframe tbody tr th {\n        vertical-align: top;\n    }\n\n    .dataframe thead th {\n        text-align: right;\n    }\n</style>\n<table border=\"1\" class=\"dataframe\">\n  <thead>\n    <tr style=\"text-align: right;\">\n      <th></th>\n      <th>Id</th>\n      <th>MSSubClass</th>\n      <th>MSZoning</th>\n      <th>LotFrontage</th>\n      <th>LotArea</th>\n      <th>Street</th>\n      <th>Alley</th>\n      <th>LotShape</th>\n      <th>LandContour</th>\n      <th>Utilities</th>\n      <th>...</th>\n      <th>PoolArea</th>\n      <th>PoolQC</th>\n      <th>Fence</th>\n      <th>MiscFeature</th>\n      <th>MiscVal</th>\n      <th>MoSold</th>\n      <th>YrSold</th>\n      <th>SaleType</th>\n      <th>SaleCondition</th>\n      <th>SalePrice</th>\n    </tr>\n  </thead>\n  <tbody>\n    <tr>\n      <th>Id</th>\n      <td>1.000000</td>\n      <td>0.011156</td>\n      <td>-0.011949</td>\n      <td>-0.010601</td>\n      <td>-0.033226</td>\n      <td>-0.008916</td>\n      <td>-0.000293</td>\n      <td>-0.024071</td>\n      <td>0.014769</td>\n      <td>0.013324</td>\n      <td>...</td>\n      <td>0.057044</td>\n      <td>0.066509</td>\n      <td>0.005029</td>\n      <td>-0.014074</td>\n      <td>-0.006242</td>\n      <td>0.021172</td>\n      <td>0.000712</td>\n      <td>-0.016932</td>\n      <td>-0.017712</td>\n      <td>-0.021917</td>\n    </tr>\n    <tr>\n      <th>MSSubClass</th>\n      <td>0.011156</td>\n      <td>1.000000</td>\n      <td>0.286937</td>\n      <td>-0.386347</td>\n      <td>-0.139781</td>\n      <td>0.024969</td>\n      <td>0.179144</td>\n      <td>-0.115361</td>\n      <td>-0.018947</td>\n      <td>-0.022844</td>\n      <td>...</td>\n      <td>0.008283</td>\n      <td>0.010353</td>\n      <td>-0.080209</td>\n      <td>-0.016437</td>\n      <td>-0.007683</td>\n      <td>-0.013585</td>\n      <td>-0.021407</td>\n      <td>0.012874</td>\n      <td>-0.015047</td>\n      <td>-0.084284</td>\n    </tr>\n    <tr>\n      <th>MSZoning</th>\n      <td>-0.011949</td>\n      <td>0.286937</td>\n      <td>1.000000</td>\n      <td>-0.248800</td>\n      <td>-0.161640</td>\n      <td>0.039678</td>\n      <td>0.399270</td>\n      <td>-0.167918</td>\n      <td>-0.013396</td>\n      <td>-0.011167</td>\n      <td>...</td>\n      <td>-0.029301</td>\n      <td>-0.027587</td>\n      <td>-0.074069</td>\n      <td>-0.029479</td>\n      <td>-0.021573</td>\n      <td>0.022231</td>\n      <td>-0.010621</td>\n      <td>0.058948</td>\n      <td>0.068705</td>\n      <td>-0.116047</td>\n    </tr>\n    <tr>\n      <th>LotFrontage</th>\n      <td>-0.010601</td>\n      <td>-0.386347</td>\n      <td>-0.248800</td>\n      <td>1.000000</td>\n      <td>0.426095</td>\n      <td>0.040886</td>\n      <td>-0.190957</td>\n      <td>0.231878</td>\n      <td>0.096766</td>\n      <td>NaN</td>\n      <td>...</td>\n      <td>0.206167</td>\n      <td>0.219815</td>\n      <td>0.037457</td>\n      <td>0.007872</td>\n      <td>0.003368</td>\n      <td>0.011200</td>\n      <td>0.007450</td>\n      <td>0.006370</td>\n      <td>0.072517</td>\n      <td>0.351799</td>\n    </tr>\n    <tr>\n      <th>LotArea</th>\n      <td>-0.033226</td>\n      <td>-0.139781</td>\n      <td>-0.161640</td>\n      <td>0.426095</td>\n      <td>1.000000</td>\n      <td>0.197131</td>\n      <td>-0.083668</td>\n      <td>0.315484</td>\n      <td>0.258792</td>\n      <td>0.010123</td>\n      <td>...</td>\n      <td>0.077672</td>\n      <td>0.093908</td>\n      <td>-0.030856</td>\n      <td>0.089707</td>\n      <td>0.038068</td>\n      <td>0.001205</td>\n      <td>-0.014261</td>\n      <td>-0.013882</td>\n      <td>0.000199</td>\n      <td>0.263843</td>\n    </tr>\n    <tr>\n      <th>...</th>\n      <td>...</td>\n      <td>...</td>\n      <td>...</td>\n      <td>...</td>\n      <td>...</td>\n      <td>...</td>\n      <td>...</td>\n      <td>...</td>\n      <td>...</td>\n      <td>...</td>\n      <td>...</td>\n      <td>...</td>\n      <td>...</td>\n      <td>...</td>\n      <td>...</td>\n      <td>...</td>\n      <td>...</td>\n      <td>...</td>\n      <td>...</td>\n      <td>...</td>\n      <td>...</td>\n    </tr>\n    <tr>\n      <th>MoSold</th>\n      <td>0.021172</td>\n      <td>-0.013585</td>\n      <td>0.022231</td>\n      <td>0.011200</td>\n      <td>0.001205</td>\n      <td>-0.003690</td>\n      <td>-0.021453</td>\n      <td>0.026617</td>\n      <td>0.063280</td>\n      <td>-0.051552</td>\n      <td>...</td>\n      <td>-0.033737</td>\n      <td>-0.033227</td>\n      <td>0.011360</td>\n      <td>0.019292</td>\n      <td>-0.006495</td>\n      <td>1.000000</td>\n      <td>-0.145721</td>\n      <td>0.040201</td>\n      <td>0.054679</td>\n      <td>0.046432</td>\n    </tr>\n    <tr>\n      <th>YrSold</th>\n      <td>0.000712</td>\n      <td>-0.021407</td>\n      <td>-0.010621</td>\n      <td>0.007450</td>\n      <td>-0.014261</td>\n      <td>0.025043</td>\n      <td>-0.012036</td>\n      <td>-0.037391</td>\n      <td>-0.026117</td>\n      <td>0.023353</td>\n      <td>...</td>\n      <td>-0.059689</td>\n      <td>-0.046232</td>\n      <td>0.012714</td>\n      <td>0.043235</td>\n      <td>0.004906</td>\n      <td>-0.145721</td>\n      <td>1.000000</td>\n      <td>-0.021683</td>\n      <td>-0.123720</td>\n      <td>-0.028923</td>\n    </tr>\n    <tr>\n      <th>SaleType</th>\n      <td>-0.016932</td>\n      <td>0.012874</td>\n      <td>0.058948</td>\n      <td>0.006370</td>\n      <td>-0.013882</td>\n      <td>0.021171</td>\n      <td>-0.000025</td>\n      <td>0.001435</td>\n      <td>-0.014537</td>\n      <td>0.057455</td>\n      <td>...</td>\n      <td>-0.009887</td>\n      <td>-0.002809</td>\n      <td>-0.027036</td>\n      <td>0.014543</td>\n      <td>-0.014143</td>\n      <td>0.040201</td>\n      <td>-0.021683</td>\n      <td>1.000000</td>\n      <td>0.232149</td>\n      <td>0.072896</td>\n    </tr>\n    <tr>\n      <th>SaleCondition</th>\n      <td>-0.017712</td>\n      <td>-0.015047</td>\n      <td>0.068705</td>\n      <td>0.072517</td>\n      <td>0.000199</td>\n      <td>0.022919</td>\n      <td>0.026551</td>\n      <td>-0.004773</td>\n      <td>0.062826</td>\n      <td>0.019173</td>\n      <td>...</td>\n      <td>0.068578</td>\n      <td>0.071651</td>\n      <td>-0.032209</td>\n      <td>-0.047231</td>\n      <td>-0.032655</td>\n      <td>0.054679</td>\n      <td>-0.123720</td>\n      <td>0.232149</td>\n      <td>1.000000</td>\n      <td>0.142503</td>\n    </tr>\n    <tr>\n      <th>SalePrice</th>\n      <td>-0.021917</td>\n      <td>-0.084284</td>\n      <td>-0.116047</td>\n      <td>0.351799</td>\n      <td>0.263843</td>\n      <td>-0.041036</td>\n      <td>-0.092607</td>\n      <td>0.267759</td>\n      <td>0.092009</td>\n      <td>-0.014314</td>\n      <td>...</td>\n      <td>0.092404</td>\n      <td>0.051364</td>\n      <td>-0.128700</td>\n      <td>-0.061128</td>\n      <td>-0.021190</td>\n      <td>0.046432</td>\n      <td>-0.028923</td>\n      <td>0.072896</td>\n      <td>0.142503</td>\n      <td>1.000000</td>\n    </tr>\n  </tbody>\n</table>\n<p>81 rows × 81 columns</p>\n</div>"
     },
     "execution_count": 50,
     "metadata": {},
     "output_type": "execute_result"
    }
   ],
   "source": [
    "corr: pd.DataFrame = train_df.corr()\n",
    "corr"
   ],
   "metadata": {
    "collapsed": false,
    "pycharm": {
     "name": "#%%\n"
    }
   }
  },
  {
   "cell_type": "code",
   "execution_count": 51,
   "outputs": [
    {
     "name": "stdout",
     "output_type": "stream",
     "text": [
      "0.06650900950191323\n",
      "0.7708396619425061\n",
      "0.39926967855640855\n",
      "0.45718100199465517\n",
      "0.43686801153335103\n",
      "0.19713093862382264\n",
      "0.39926967855640855\n",
      "0.31548403701057776\n",
      "0.5072032466851077\n",
      "0.10814052632343978\n",
      "0.3080734084680183\n",
      "0.5072032466851077\n",
      "0.18419776547817274\n",
      "0.18917211091677272\n",
      "0.2131228212854523\n",
      "0.7708396619425061\n",
      "0.22166334812357918\n",
      "0.7909816005838053\n",
      "0.22791158639694706\n",
      "0.8256674841743408\n",
      "0.6422767797035356\n",
      "0.509732518830173\n",
      "0.509732518830173\n",
      "0.749599466187403\n",
      "0.749599466187403\n",
      "0.10595321497186926\n",
      "0.47749304709571444\n",
      "0.5283778807915541\n",
      "0.2066181784356022\n",
      "0.41945138520234926\n",
      "0.3239903117368141\n",
      "0.26441659387099\n",
      "0.2627880609689963\n",
      "0.2684201173897507\n",
      "0.6492117535742649\n",
      "0.7351647961785289\n",
      "0.7351647961785289\n",
      "0.4153596051815893\n",
      "0.8195299750050339\n",
      "0.4290667489995299\n",
      "0.41945138520234926\n",
      "0.4290667489995299\n",
      "0.29404815999672623\n",
      "0.8195299750050339\n",
      "0.6875010641666033\n",
      "0.22166334812357918\n",
      "0.8254893743088425\n",
      "0.6492117535742649\n",
      "0.1190481678808047\n",
      "0.6300116462511148\n",
      "0.6097073002717436\n",
      "0.676619935742649\n",
      "0.2817210402648814\n",
      "0.5283778807915541\n",
      "0.8254893743088425\n",
      "0.17805954944579258\n",
      "0.7243931381986498\n",
      "0.7243931381986498\n",
      "0.30594728052116404\n",
      "0.8256674841743408\n",
      "0.3677687274556551\n",
      "0.882475414281462\n",
      "0.882475414281462\n",
      "0.7460167270151874\n",
      "0.7460167270151874\n",
      "0.2756601678998929\n",
      "0.32441344456812926\n",
      "0.33022396171200064\n",
      "0.23451238644859987\n",
      "0.07002922773085365\n",
      "0.18453026951684842\n",
      "0.9384016221034005\n",
      "0.9384016221034005\n",
      "0.1602347737065501\n",
      "0.5478908301970203\n",
      "0.5478908301970203\n",
      "0.07125488475868938\n",
      "0.06808527703896623\n",
      "0.23214863971558483\n",
      "0.23214863971558483\n",
      "0.7909816005838053\n"
     ]
    }
   ],
   "source": [
    "for col in train_df.columns:\n",
    "    if col in corr:\n",
    "        col_sorted = corr[col].sort_values(ascending=False)\n",
    "        print(col_sorted[1])"
   ],
   "metadata": {
    "collapsed": false,
    "pycharm": {
     "name": "#%%\n"
    }
   }
  }
 ],
 "metadata": {
  "kernelspec": {
   "display_name": "Python 3",
   "language": "python",
   "name": "python3"
  },
  "language_info": {
   "codemirror_mode": {
    "name": "ipython",
    "version": 2
   },
   "file_extension": ".py",
   "mimetype": "text/x-python",
   "name": "python",
   "nbconvert_exporter": "python",
   "pygments_lexer": "ipython2",
   "version": "2.7.6"
  }
 },
 "nbformat": 4,
 "nbformat_minor": 0
}