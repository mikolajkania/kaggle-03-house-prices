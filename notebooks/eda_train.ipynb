{
 "cells": [
  {
   "cell_type": "markdown",
   "source": [
    "# Notebook supporting feature engineering and eda of training set"
   ],
   "metadata": {
    "collapsed": false,
    "pycharm": {
     "name": "#%% md\n"
    }
   }
  },
  {
   "cell_type": "code",
   "execution_count": 169,
   "outputs": [],
   "source": [
    "import pandas as pd"
   ],
   "metadata": {
    "collapsed": false,
    "pycharm": {
     "name": "#%%\n"
    }
   }
  },
  {
   "cell_type": "code",
   "execution_count": 170,
   "outputs": [
    {
     "data": {
      "text/plain": "   Id  MSSubClass MSZoning  LotFrontage  LotArea Street Alley LotShape  \\\n0   1          60       RL         65.0     8450   Pave   NaN      Reg   \n1   2          20       RL         80.0     9600   Pave   NaN      Reg   \n2   3          60       RL         68.0    11250   Pave   NaN      IR1   \n3   4          70       RL         60.0     9550   Pave   NaN      IR1   \n4   5          60       RL         84.0    14260   Pave   NaN      IR1   \n\n  LandContour Utilities  ... PoolArea PoolQC Fence MiscFeature MiscVal MoSold  \\\n0         Lvl    AllPub  ...        0    NaN   NaN         NaN       0      2   \n1         Lvl    AllPub  ...        0    NaN   NaN         NaN       0      5   \n2         Lvl    AllPub  ...        0    NaN   NaN         NaN       0      9   \n3         Lvl    AllPub  ...        0    NaN   NaN         NaN       0      2   \n4         Lvl    AllPub  ...        0    NaN   NaN         NaN       0     12   \n\n  YrSold  SaleType  SaleCondition  SalePrice  \n0   2008        WD         Normal     208500  \n1   2007        WD         Normal     181500  \n2   2008        WD         Normal     223500  \n3   2006        WD        Abnorml     140000  \n4   2008        WD         Normal     250000  \n\n[5 rows x 81 columns]",
      "text/html": "<div>\n<style scoped>\n    .dataframe tbody tr th:only-of-type {\n        vertical-align: middle;\n    }\n\n    .dataframe tbody tr th {\n        vertical-align: top;\n    }\n\n    .dataframe thead th {\n        text-align: right;\n    }\n</style>\n<table border=\"1\" class=\"dataframe\">\n  <thead>\n    <tr style=\"text-align: right;\">\n      <th></th>\n      <th>Id</th>\n      <th>MSSubClass</th>\n      <th>MSZoning</th>\n      <th>LotFrontage</th>\n      <th>LotArea</th>\n      <th>Street</th>\n      <th>Alley</th>\n      <th>LotShape</th>\n      <th>LandContour</th>\n      <th>Utilities</th>\n      <th>...</th>\n      <th>PoolArea</th>\n      <th>PoolQC</th>\n      <th>Fence</th>\n      <th>MiscFeature</th>\n      <th>MiscVal</th>\n      <th>MoSold</th>\n      <th>YrSold</th>\n      <th>SaleType</th>\n      <th>SaleCondition</th>\n      <th>SalePrice</th>\n    </tr>\n  </thead>\n  <tbody>\n    <tr>\n      <th>0</th>\n      <td>1</td>\n      <td>60</td>\n      <td>RL</td>\n      <td>65.0</td>\n      <td>8450</td>\n      <td>Pave</td>\n      <td>NaN</td>\n      <td>Reg</td>\n      <td>Lvl</td>\n      <td>AllPub</td>\n      <td>...</td>\n      <td>0</td>\n      <td>NaN</td>\n      <td>NaN</td>\n      <td>NaN</td>\n      <td>0</td>\n      <td>2</td>\n      <td>2008</td>\n      <td>WD</td>\n      <td>Normal</td>\n      <td>208500</td>\n    </tr>\n    <tr>\n      <th>1</th>\n      <td>2</td>\n      <td>20</td>\n      <td>RL</td>\n      <td>80.0</td>\n      <td>9600</td>\n      <td>Pave</td>\n      <td>NaN</td>\n      <td>Reg</td>\n      <td>Lvl</td>\n      <td>AllPub</td>\n      <td>...</td>\n      <td>0</td>\n      <td>NaN</td>\n      <td>NaN</td>\n      <td>NaN</td>\n      <td>0</td>\n      <td>5</td>\n      <td>2007</td>\n      <td>WD</td>\n      <td>Normal</td>\n      <td>181500</td>\n    </tr>\n    <tr>\n      <th>2</th>\n      <td>3</td>\n      <td>60</td>\n      <td>RL</td>\n      <td>68.0</td>\n      <td>11250</td>\n      <td>Pave</td>\n      <td>NaN</td>\n      <td>IR1</td>\n      <td>Lvl</td>\n      <td>AllPub</td>\n      <td>...</td>\n      <td>0</td>\n      <td>NaN</td>\n      <td>NaN</td>\n      <td>NaN</td>\n      <td>0</td>\n      <td>9</td>\n      <td>2008</td>\n      <td>WD</td>\n      <td>Normal</td>\n      <td>223500</td>\n    </tr>\n    <tr>\n      <th>3</th>\n      <td>4</td>\n      <td>70</td>\n      <td>RL</td>\n      <td>60.0</td>\n      <td>9550</td>\n      <td>Pave</td>\n      <td>NaN</td>\n      <td>IR1</td>\n      <td>Lvl</td>\n      <td>AllPub</td>\n      <td>...</td>\n      <td>0</td>\n      <td>NaN</td>\n      <td>NaN</td>\n      <td>NaN</td>\n      <td>0</td>\n      <td>2</td>\n      <td>2006</td>\n      <td>WD</td>\n      <td>Abnorml</td>\n      <td>140000</td>\n    </tr>\n    <tr>\n      <th>4</th>\n      <td>5</td>\n      <td>60</td>\n      <td>RL</td>\n      <td>84.0</td>\n      <td>14260</td>\n      <td>Pave</td>\n      <td>NaN</td>\n      <td>IR1</td>\n      <td>Lvl</td>\n      <td>AllPub</td>\n      <td>...</td>\n      <td>0</td>\n      <td>NaN</td>\n      <td>NaN</td>\n      <td>NaN</td>\n      <td>0</td>\n      <td>12</td>\n      <td>2008</td>\n      <td>WD</td>\n      <td>Normal</td>\n      <td>250000</td>\n    </tr>\n  </tbody>\n</table>\n<p>5 rows × 81 columns</p>\n</div>"
     },
     "execution_count": 170,
     "metadata": {},
     "output_type": "execute_result"
    }
   ],
   "source": [
    "train_df: pd.DataFrame = pd.read_csv('../data/train.csv')\n",
    "train_df.head()"
   ],
   "metadata": {
    "collapsed": false,
    "pycharm": {
     "name": "#%%\n"
    }
   }
  },
  {
   "cell_type": "markdown",
   "source": [
    "## Replace text content (string values) with numerical one"
   ],
   "metadata": {
    "collapsed": false,
    "pycharm": {
     "name": "#%% md\n"
    }
   }
  },
  {
   "cell_type": "markdown",
   "source": [
    "- TODO Basement - few features about the same topic, but all will have NA if no basement"
   ],
   "metadata": {
    "collapsed": false,
    "pycharm": {
     "name": "#%% md\n"
    }
   }
  },
  {
   "cell_type": "code",
   "execution_count": 171,
   "outputs": [
    {
     "data": {
      "text/plain": "Index(['Id', 'MSSubClass', 'MSZoning', 'LotFrontage', 'LotArea', 'Street',\n       'Alley', 'LotShape', 'LandContour', 'Utilities', 'LotConfig',\n       'LandSlope', 'Neighborhood', 'Condition1', 'Condition2', 'BldgType',\n       'HouseStyle', 'OverallQual', 'OverallCond', 'YearBuilt', 'YearRemodAdd',\n       'RoofStyle', 'RoofMatl', 'Exterior1st', 'Exterior2nd', 'MasVnrType',\n       'MasVnrArea', 'ExterQual', 'ExterCond', 'Foundation', 'BsmtQual',\n       'BsmtCond', 'BsmtExposure', 'BsmtFinType1', 'BsmtFinSF1',\n       'BsmtFinType2', 'BsmtFinSF2', 'BsmtUnfSF', 'TotalBsmtSF', 'Heating',\n       'HeatingQC', 'CentralAir', 'Electrical', '1stFlrSF', '2ndFlrSF',\n       'LowQualFinSF', 'GrLivArea', 'BsmtFullBath', 'BsmtHalfBath', 'FullBath',\n       'HalfBath', 'BedroomAbvGr', 'KitchenAbvGr', 'KitchenQual',\n       'TotRmsAbvGrd', 'Functional', 'Fireplaces', 'FireplaceQu', 'GarageType',\n       'GarageYrBlt', 'GarageFinish', 'GarageCars', 'GarageArea', 'GarageQual',\n       'GarageCond', 'PavedDrive', 'WoodDeckSF', 'OpenPorchSF',\n       'EnclosedPorch', '3SsnPorch', 'ScreenPorch', 'PoolArea', 'PoolQC',\n       'Fence', 'MiscFeature', 'MiscVal', 'MoSold', 'YrSold', 'SaleType',\n       'SaleCondition', 'SalePrice'],\n      dtype='object')"
     },
     "execution_count": 171,
     "metadata": {},
     "output_type": "execute_result"
    }
   ],
   "source": [
    "train_df.columns"
   ],
   "metadata": {
    "collapsed": false,
    "pycharm": {
     "name": "#%%\n"
    }
   }
  },
  {
   "cell_type": "code",
   "execution_count": 172,
   "outputs": [
    {
     "data": {
      "text/plain": "   Id  MSSubClass MSZoning  LotFrontage  LotArea Street Alley LotShape  \\\n0   1          60       RL         65.0     8450   Pave   NaN      Reg   \n1   2          20       RL         80.0     9600   Pave   NaN      Reg   \n2   3          60       RL         68.0    11250   Pave   NaN      IR1   \n3   4          70       RL         60.0     9550   Pave   NaN      IR1   \n4   5          60       RL         84.0    14260   Pave   NaN      IR1   \n\n  LandContour Utilities  ... GarageType_fact GarageFinish_fact  \\\n0         Lvl    AllPub  ...               0                 0   \n1         Lvl    AllPub  ...               0                 0   \n2         Lvl    AllPub  ...               0                 0   \n3         Lvl    AllPub  ...               1                 1   \n4         Lvl    AllPub  ...               0                 0   \n\n  GarageQual_fact GarageCond_fact PavedDrive_fact PoolQC_fact Fence_fact  \\\n0               0               0               0          -1         -1   \n1               0               0               0          -1         -1   \n2               0               0               0          -1         -1   \n3               0               0               0          -1         -1   \n4               0               0               0          -1         -1   \n\n   MiscFeature_fact  SaleType_fact  SaleCondition_fact  \n0                -1              0                   0  \n1                -1              0                   0  \n2                -1              0                   0  \n3                -1              0                   1  \n4                -1              0                   0  \n\n[5 rows x 124 columns]",
      "text/html": "<div>\n<style scoped>\n    .dataframe tbody tr th:only-of-type {\n        vertical-align: middle;\n    }\n\n    .dataframe tbody tr th {\n        vertical-align: top;\n    }\n\n    .dataframe thead th {\n        text-align: right;\n    }\n</style>\n<table border=\"1\" class=\"dataframe\">\n  <thead>\n    <tr style=\"text-align: right;\">\n      <th></th>\n      <th>Id</th>\n      <th>MSSubClass</th>\n      <th>MSZoning</th>\n      <th>LotFrontage</th>\n      <th>LotArea</th>\n      <th>Street</th>\n      <th>Alley</th>\n      <th>LotShape</th>\n      <th>LandContour</th>\n      <th>Utilities</th>\n      <th>...</th>\n      <th>GarageType_fact</th>\n      <th>GarageFinish_fact</th>\n      <th>GarageQual_fact</th>\n      <th>GarageCond_fact</th>\n      <th>PavedDrive_fact</th>\n      <th>PoolQC_fact</th>\n      <th>Fence_fact</th>\n      <th>MiscFeature_fact</th>\n      <th>SaleType_fact</th>\n      <th>SaleCondition_fact</th>\n    </tr>\n  </thead>\n  <tbody>\n    <tr>\n      <th>0</th>\n      <td>1</td>\n      <td>60</td>\n      <td>RL</td>\n      <td>65.0</td>\n      <td>8450</td>\n      <td>Pave</td>\n      <td>NaN</td>\n      <td>Reg</td>\n      <td>Lvl</td>\n      <td>AllPub</td>\n      <td>...</td>\n      <td>0</td>\n      <td>0</td>\n      <td>0</td>\n      <td>0</td>\n      <td>0</td>\n      <td>-1</td>\n      <td>-1</td>\n      <td>-1</td>\n      <td>0</td>\n      <td>0</td>\n    </tr>\n    <tr>\n      <th>1</th>\n      <td>2</td>\n      <td>20</td>\n      <td>RL</td>\n      <td>80.0</td>\n      <td>9600</td>\n      <td>Pave</td>\n      <td>NaN</td>\n      <td>Reg</td>\n      <td>Lvl</td>\n      <td>AllPub</td>\n      <td>...</td>\n      <td>0</td>\n      <td>0</td>\n      <td>0</td>\n      <td>0</td>\n      <td>0</td>\n      <td>-1</td>\n      <td>-1</td>\n      <td>-1</td>\n      <td>0</td>\n      <td>0</td>\n    </tr>\n    <tr>\n      <th>2</th>\n      <td>3</td>\n      <td>60</td>\n      <td>RL</td>\n      <td>68.0</td>\n      <td>11250</td>\n      <td>Pave</td>\n      <td>NaN</td>\n      <td>IR1</td>\n      <td>Lvl</td>\n      <td>AllPub</td>\n      <td>...</td>\n      <td>0</td>\n      <td>0</td>\n      <td>0</td>\n      <td>0</td>\n      <td>0</td>\n      <td>-1</td>\n      <td>-1</td>\n      <td>-1</td>\n      <td>0</td>\n      <td>0</td>\n    </tr>\n    <tr>\n      <th>3</th>\n      <td>4</td>\n      <td>70</td>\n      <td>RL</td>\n      <td>60.0</td>\n      <td>9550</td>\n      <td>Pave</td>\n      <td>NaN</td>\n      <td>IR1</td>\n      <td>Lvl</td>\n      <td>AllPub</td>\n      <td>...</td>\n      <td>1</td>\n      <td>1</td>\n      <td>0</td>\n      <td>0</td>\n      <td>0</td>\n      <td>-1</td>\n      <td>-1</td>\n      <td>-1</td>\n      <td>0</td>\n      <td>1</td>\n    </tr>\n    <tr>\n      <th>4</th>\n      <td>5</td>\n      <td>60</td>\n      <td>RL</td>\n      <td>84.0</td>\n      <td>14260</td>\n      <td>Pave</td>\n      <td>NaN</td>\n      <td>IR1</td>\n      <td>Lvl</td>\n      <td>AllPub</td>\n      <td>...</td>\n      <td>0</td>\n      <td>0</td>\n      <td>0</td>\n      <td>0</td>\n      <td>0</td>\n      <td>-1</td>\n      <td>-1</td>\n      <td>-1</td>\n      <td>0</td>\n      <td>0</td>\n    </tr>\n  </tbody>\n</table>\n<p>5 rows × 124 columns</p>\n</div>"
     },
     "execution_count": 172,
     "metadata": {},
     "output_type": "execute_result"
    }
   ],
   "source": [
    "for col in train_df.columns:\n",
    "    if pd.api.types.is_string_dtype(train_df[col].dtype):\n",
    "        train_df[col + '_fact'] = pd.factorize(train_df[col])[0]\n",
    "\n",
    "train_df.head()"
   ],
   "metadata": {
    "collapsed": false,
    "pycharm": {
     "name": "#%%\n"
    }
   }
  },
  {
   "cell_type": "markdown",
   "source": [
    "#### Put year values into bins"
   ],
   "metadata": {
    "collapsed": false,
    "pycharm": {
     "name": "#%% md\n"
    }
   }
  },
  {
   "cell_type": "code",
   "execution_count": 173,
   "outputs": [
    {
     "name": "stdout",
     "output_type": "stream",
     "text": [
      "YearBuilt       1872\n",
      "YearRemodAdd    1950\n",
      "dtype: int64\n",
      "YearBuilt       2010\n",
      "YearRemodAdd    2010\n",
      "dtype: int64\n"
     ]
    },
    {
     "data": {
      "text/plain": "<AxesSubplot:>"
     },
     "execution_count": 173,
     "metadata": {},
     "output_type": "execute_result"
    },
    {
     "data": {
      "text/plain": "<Figure size 640x480 with 1 Axes>",
      "image/png": "[encoded data removed]"
     },
     "metadata": {},
     "output_type": "display_data"
    }
   ],
   "source": [
    "print(train_df[['YearBuilt', 'YearRemodAdd']].min())\n",
    "print(train_df[['YearBuilt', 'YearRemodAdd']].max())\n",
    "\n",
    "train_df.boxplot(column=['YearBuilt', 'YearRemodAdd'])"
   ],
   "metadata": {
    "collapsed": false,
    "pycharm": {
     "name": "#%%\n"
    }
   }
  },
  {
   "cell_type": "markdown",
   "source": [],
   "metadata": {
    "collapsed": false,
    "pycharm": {
     "name": "#%% md\n"
    }
   }
  },
  {
   "cell_type": "code",
   "execution_count": 174,
   "outputs": [
    {
     "data": {
      "text/plain": "   YearBuilt  YearBuilt_bins  YearRemodAdd  YearRemodAdd_bins\n0       2003               7          2003                  5\n1       1976               5          1976                  2\n2       2001               7          2002                  5\n3       1915               0          1970                  2\n4       2000               7          2000                  4",
      "text/html": "<div>\n<style scoped>\n    .dataframe tbody tr th:only-of-type {\n        vertical-align: middle;\n    }\n\n    .dataframe tbody tr th {\n        vertical-align: top;\n    }\n\n    .dataframe thead th {\n        text-align: right;\n    }\n</style>\n<table border=\"1\" class=\"dataframe\">\n  <thead>\n    <tr style=\"text-align: right;\">\n      <th></th>\n      <th>YearBuilt</th>\n      <th>YearBuilt_bins</th>\n      <th>YearRemodAdd</th>\n      <th>YearRemodAdd_bins</th>\n    </tr>\n  </thead>\n  <tbody>\n    <tr>\n      <th>0</th>\n      <td>2003</td>\n      <td>7</td>\n      <td>2003</td>\n      <td>5</td>\n    </tr>\n    <tr>\n      <th>1</th>\n      <td>1976</td>\n      <td>5</td>\n      <td>1976</td>\n      <td>2</td>\n    </tr>\n    <tr>\n      <th>2</th>\n      <td>2001</td>\n      <td>7</td>\n      <td>2002</td>\n      <td>5</td>\n    </tr>\n    <tr>\n      <th>3</th>\n      <td>1915</td>\n      <td>0</td>\n      <td>1970</td>\n      <td>2</td>\n    </tr>\n    <tr>\n      <th>4</th>\n      <td>2000</td>\n      <td>7</td>\n      <td>2000</td>\n      <td>4</td>\n    </tr>\n  </tbody>\n</table>\n</div>"
     },
     "execution_count": 174,
     "metadata": {},
     "output_type": "execute_result"
    }
   ],
   "source": [
    "# Arbitrary bin values based on above plot. Could be calculated within deeper analysis\n",
    "\n",
    "train_df['YearBuilt_bins'] = pd.qcut(train_df['YearBuilt'], q=10, labels=False, precision=0)\n",
    "train_df['YearRemodAdd_bins'] = pd.qcut(train_df['YearRemodAdd'], q=8, labels=False, precision=0)\n",
    "\n",
    "train_df[['YearBuilt', 'YearBuilt_bins', 'YearRemodAdd', 'YearRemodAdd_bins']].head()"
   ],
   "metadata": {
    "collapsed": false,
    "pycharm": {
     "name": "#%%\n"
    }
   }
  },
  {
   "cell_type": "markdown",
   "source": [
    "#### Lot area into bins"
   ],
   "metadata": {
    "collapsed": false,
    "pycharm": {
     "name": "#%% md\n"
    }
   }
  },
  {
   "cell_type": "code",
   "execution_count": 175,
   "outputs": [
    {
     "name": "stdout",
     "output_type": "stream",
     "text": [
      "LotArea    1300\n",
      "dtype: int64\n",
      "LotArea    215245\n",
      "dtype: int64\n"
     ]
    },
    {
     "data": {
      "text/plain": "<AxesSubplot:>"
     },
     "execution_count": 175,
     "metadata": {},
     "output_type": "execute_result"
    },
    {
     "data": {
      "text/plain": "<Figure size 640x480 with 1 Axes>",
      "image/png": "[encoded data removed]"
     },
     "metadata": {},
     "output_type": "display_data"
    }
   ],
   "source": [
    "print(train_df[['LotArea']].min())\n",
    "print(train_df[['LotArea']].max())\n",
    "\n",
    "train_df.boxplot(column=['LotArea'])"
   ],
   "metadata": {
    "collapsed": false,
    "pycharm": {
     "name": "#%%\n"
    }
   }
  },
  {
   "cell_type": "code",
   "execution_count": 176,
   "outputs": [
    {
     "data": {
      "text/plain": "   LotArea  LotArea_bins\n0     8450             6\n1     9600            10\n2    11250            14\n3     9550            10\n4    14260            17",
      "text/html": "<div>\n<style scoped>\n    .dataframe tbody tr th:only-of-type {\n        vertical-align: middle;\n    }\n\n    .dataframe tbody tr th {\n        vertical-align: top;\n    }\n\n    .dataframe thead th {\n        text-align: right;\n    }\n</style>\n<table border=\"1\" class=\"dataframe\">\n  <thead>\n    <tr style=\"text-align: right;\">\n      <th></th>\n      <th>LotArea</th>\n      <th>LotArea_bins</th>\n    </tr>\n  </thead>\n  <tbody>\n    <tr>\n      <th>0</th>\n      <td>8450</td>\n      <td>6</td>\n    </tr>\n    <tr>\n      <th>1</th>\n      <td>9600</td>\n      <td>10</td>\n    </tr>\n    <tr>\n      <th>2</th>\n      <td>11250</td>\n      <td>14</td>\n    </tr>\n    <tr>\n      <th>3</th>\n      <td>9550</td>\n      <td>10</td>\n    </tr>\n    <tr>\n      <th>4</th>\n      <td>14260</td>\n      <td>17</td>\n    </tr>\n  </tbody>\n</table>\n</div>"
     },
     "execution_count": 176,
     "metadata": {},
     "output_type": "execute_result"
    }
   ],
   "source": [
    "train_df['LotArea_bins'] = pd.qcut(train_df['LotArea'], q=20, labels=False, precision=0)\n",
    "\n",
    "train_df[['LotArea', 'LotArea_bins']].head()"
   ],
   "metadata": {
    "collapsed": false,
    "pycharm": {
     "name": "#%%\n"
    }
   }
  },
  {
   "cell_type": "markdown",
   "source": [
    "## Description of already numeric features"
   ],
   "metadata": {
    "collapsed": false,
    "pycharm": {
     "name": "#%% md\n"
    }
   }
  },
  {
   "cell_type": "markdown",
   "source": [
    "- TODO Quite a lot of outliers, especially on max side\n",
    "- TODO Values on different scales"
   ],
   "metadata": {
    "collapsed": false,
    "pycharm": {
     "name": "#%% md\n"
    }
   }
  },
  {
   "cell_type": "code",
   "execution_count": 177,
   "outputs": [
    {
     "data": {
      "text/plain": "                Id   MSSubClass  LotFrontage        LotArea  OverallQual  \\\ncount  1460.000000  1460.000000  1201.000000    1460.000000  1460.000000   \nmean    730.500000    56.897260    70.049958   10516.828082     6.099315   \nstd     421.610009    42.300571    24.284752    9981.264932     1.382997   \nmin       1.000000    20.000000    21.000000    1300.000000     1.000000   \n25%     365.750000    20.000000    59.000000    7553.500000     5.000000   \n50%     730.500000    50.000000    69.000000    9478.500000     6.000000   \n75%    1095.250000    70.000000    80.000000   11601.500000     7.000000   \nmax    1460.000000   190.000000   313.000000  215245.000000    10.000000   \n\n       OverallCond    YearBuilt  YearRemodAdd   MasVnrArea   BsmtFinSF1  ...  \\\ncount  1460.000000  1460.000000   1460.000000  1452.000000  1460.000000  ...   \nmean      5.575342  1971.267808   1984.865753   103.685262   443.639726  ...   \nstd       1.112799    30.202904     20.645407   181.066207   456.098091  ...   \nmin       1.000000  1872.000000   1950.000000     0.000000     0.000000  ...   \n25%       5.000000  1954.000000   1967.000000     0.000000     0.000000  ...   \n50%       5.000000  1973.000000   1994.000000     0.000000   383.500000  ...   \n75%       6.000000  2000.000000   2004.000000   166.000000   712.250000  ...   \nmax       9.000000  2010.000000   2010.000000  1600.000000  5644.000000  ...   \n\n       GarageCond_fact  PavedDrive_fact  PoolQC_fact   Fence_fact  \\\ncount      1460.000000      1460.000000  1460.000000  1460.000000   \nmean          0.000685         0.102740    -0.989726    -0.667123   \nstd           0.411453         0.365201     0.158916     0.793316   \nmin          -1.000000         0.000000    -1.000000    -1.000000   \n25%           0.000000         0.000000    -1.000000    -1.000000   \n50%           0.000000         0.000000    -1.000000    -1.000000   \n75%           0.000000         0.000000    -1.000000    -1.000000   \nmax           4.000000         2.000000     2.000000     3.000000   \n\n       MiscFeature_fact  SaleType_fact  SaleCondition_fact  YearBuilt_bins  \\\ncount       1460.000000    1460.000000          1460.00000     1460.000000   \nmean          -0.956849       0.234932             0.35000        4.421918   \nstd            0.245984       0.804553             0.88787        2.817757   \nmin           -1.000000       0.000000             0.00000        0.000000   \n25%           -1.000000       0.000000             0.00000        2.000000   \n50%           -1.000000       0.000000             0.00000        4.000000   \n75%           -1.000000       0.000000             0.00000        7.000000   \nmax            3.000000       8.000000             5.00000        9.000000   \n\n       YearRemodAdd_bins  LotArea_bins  \ncount        1460.000000   1460.000000  \nmean            3.376712      9.493151  \nstd             2.221585      5.771460  \nmin             0.000000      0.000000  \n25%             1.000000      4.750000  \n50%             3.000000      9.500000  \n75%             5.000000     14.250000  \nmax             7.000000     19.000000  \n\n[8 rows x 84 columns]",
      "text/html": "<div>\n<style scoped>\n    .dataframe tbody tr th:only-of-type {\n        vertical-align: middle;\n    }\n\n    .dataframe tbody tr th {\n        vertical-align: top;\n    }\n\n    .dataframe thead th {\n        text-align: right;\n    }\n</style>\n<table border=\"1\" class=\"dataframe\">\n  <thead>\n    <tr style=\"text-align: right;\">\n      <th></th>\n      <th>Id</th>\n      <th>MSSubClass</th>\n      <th>LotFrontage</th>\n      <th>LotArea</th>\n      <th>OverallQual</th>\n      <th>OverallCond</th>\n      <th>YearBuilt</th>\n      <th>YearRemodAdd</th>\n      <th>MasVnrArea</th>\n      <th>BsmtFinSF1</th>\n      <th>...</th>\n      <th>GarageCond_fact</th>\n      <th>PavedDrive_fact</th>\n      <th>PoolQC_fact</th>\n      <th>Fence_fact</th>\n      <th>MiscFeature_fact</th>\n      <th>SaleType_fact</th>\n      <th>SaleCondition_fact</th>\n      <th>YearBuilt_bins</th>\n      <th>YearRemodAdd_bins</th>\n      <th>LotArea_bins</th>\n    </tr>\n  </thead>\n  <tbody>\n    <tr>\n      <th>count</th>\n      <td>1460.000000</td>\n      <td>1460.000000</td>\n      <td>1201.000000</td>\n      <td>1460.000000</td>\n      <td>1460.000000</td>\n      <td>1460.000000</td>\n      <td>1460.000000</td>\n      <td>1460.000000</td>\n      <td>1452.000000</td>\n      <td>1460.000000</td>\n      <td>...</td>\n      <td>1460.000000</td>\n      <td>1460.000000</td>\n      <td>1460.000000</td>\n      <td>1460.000000</td>\n      <td>1460.000000</td>\n      <td>1460.000000</td>\n      <td>1460.00000</td>\n      <td>1460.000000</td>\n      <td>1460.000000</td>\n      <td>1460.000000</td>\n    </tr>\n    <tr>\n      <th>mean</th>\n      <td>730.500000</td>\n      <td>56.897260</td>\n      <td>70.049958</td>\n      <td>10516.828082</td>\n      <td>6.099315</td>\n      <td>5.575342</td>\n      <td>1971.267808</td>\n      <td>1984.865753</td>\n      <td>103.685262</td>\n      <td>443.639726</td>\n      <td>...</td>\n      <td>0.000685</td>\n      <td>0.102740</td>\n      <td>-0.989726</td>\n      <td>-0.667123</td>\n      <td>-0.956849</td>\n      <td>0.234932</td>\n      <td>0.35000</td>\n      <td>4.421918</td>\n      <td>3.376712</td>\n      <td>9.493151</td>\n    </tr>\n    <tr>\n      <th>std</th>\n      <td>421.610009</td>\n      <td>42.300571</td>\n      <td>24.284752</td>\n      <td>9981.264932</td>\n      <td>1.382997</td>\n      <td>1.112799</td>\n      <td>30.202904</td>\n      <td>20.645407</td>\n      <td>181.066207</td>\n      <td>456.098091</td>\n      <td>...</td>\n      <td>0.411453</td>\n      <td>0.365201</td>\n      <td>0.158916</td>\n      <td>0.793316</td>\n      <td>0.245984</td>\n      <td>0.804553</td>\n      <td>0.88787</td>\n      <td>2.817757</td>\n      <td>2.221585</td>\n      <td>5.771460</td>\n    </tr>\n    <tr>\n      <th>min</th>\n      <td>1.000000</td>\n      <td>20.000000</td>\n      <td>21.000000</td>\n      <td>1300.000000</td>\n      <td>1.000000</td>\n      <td>1.000000</td>\n      <td>1872.000000</td>\n      <td>1950.000000</td>\n      <td>0.000000</td>\n      <td>0.000000</td>\n      <td>...</td>\n      <td>-1.000000</td>\n      <td>0.000000</td>\n      <td>-1.000000</td>\n      <td>-1.000000</td>\n      <td>-1.000000</td>\n      <td>0.000000</td>\n      <td>0.00000</td>\n      <td>0.000000</td>\n      <td>0.000000</td>\n      <td>0.000000</td>\n    </tr>\n    <tr>\n      <th>25%</th>\n      <td>365.750000</td>\n      <td>20.000000</td>\n      <td>59.000000</td>\n      <td>7553.500000</td>\n      <td>5.000000</td>\n      <td>5.000000</td>\n      <td>1954.000000</td>\n      <td>1967.000000</td>\n      <td>0.000000</td>\n      <td>0.000000</td>\n      <td>...</td>\n      <td>0.000000</td>\n      <td>0.000000</td>\n      <td>-1.000000</td>\n      <td>-1.000000</td>\n      <td>-1.000000</td>\n      <td>0.000000</td>\n      <td>0.00000</td>\n      <td>2.000000</td>\n      <td>1.000000</td>\n      <td>4.750000</td>\n    </tr>\n    <tr>\n      <th>50%</th>\n      <td>730.500000</td>\n      <td>50.000000</td>\n      <td>69.000000</td>\n      <td>9478.500000</td>\n      <td>6.000000</td>\n      <td>5.000000</td>\n      <td>1973.000000</td>\n      <td>1994.000000</td>\n      <td>0.000000</td>\n      <td>383.500000</td>\n      <td>...</td>\n      <td>0.000000</td>\n      <td>0.000000</td>\n      <td>-1.000000</td>\n      <td>-1.000000</td>\n      <td>-1.000000</td>\n      <td>0.000000</td>\n      <td>0.00000</td>\n      <td>4.000000</td>\n      <td>3.000000</td>\n      <td>9.500000</td>\n    </tr>\n    <tr>\n      <th>75%</th>\n      <td>1095.250000</td>\n      <td>70.000000</td>\n      <td>80.000000</td>\n      <td>11601.500000</td>\n      <td>7.000000</td>\n      <td>6.000000</td>\n      <td>2000.000000</td>\n      <td>2004.000000</td>\n      <td>166.000000</td>\n      <td>712.250000</td>\n      <td>...</td>\n      <td>0.000000</td>\n      <td>0.000000</td>\n      <td>-1.000000</td>\n      <td>-1.000000</td>\n      <td>-1.000000</td>\n      <td>0.000000</td>\n      <td>0.00000</td>\n      <td>7.000000</td>\n      <td>5.000000</td>\n      <td>14.250000</td>\n    </tr>\n    <tr>\n      <th>max</th>\n      <td>1460.000000</td>\n      <td>190.000000</td>\n      <td>313.000000</td>\n      <td>215245.000000</td>\n      <td>10.000000</td>\n      <td>9.000000</td>\n      <td>2010.000000</td>\n      <td>2010.000000</td>\n      <td>1600.000000</td>\n      <td>5644.000000</td>\n      <td>...</td>\n      <td>4.000000</td>\n      <td>2.000000</td>\n      <td>2.000000</td>\n      <td>3.000000</td>\n      <td>3.000000</td>\n      <td>8.000000</td>\n      <td>5.00000</td>\n      <td>9.000000</td>\n      <td>7.000000</td>\n      <td>19.000000</td>\n    </tr>\n  </tbody>\n</table>\n<p>8 rows × 84 columns</p>\n</div>"
     },
     "execution_count": 177,
     "metadata": {},
     "output_type": "execute_result"
    }
   ],
   "source": [
    "train_df.describe()"
   ],
   "metadata": {
    "collapsed": false,
    "pycharm": {
     "name": "#%%\n"
    }
   }
  },
  {
   "cell_type": "markdown",
   "source": [
    "## Correlation between features"
   ],
   "metadata": {
    "collapsed": false,
    "pycharm": {
     "name": "#%% md\n"
    }
   }
  },
  {
   "cell_type": "markdown",
   "source": [
    "- There are already high correlation between some features"
   ],
   "metadata": {
    "collapsed": false,
    "pycharm": {
     "name": "#%% md\n"
    }
   }
  },
  {
   "cell_type": "code",
   "execution_count": 178,
   "outputs": [
    {
     "data": {
      "text/plain": "                          Id  MSSubClass  LotFrontage   LotArea  OverallQual  \\\nId                  1.000000    0.011156    -0.010601 -0.033226    -0.028365   \nMSSubClass          0.011156    1.000000    -0.386347 -0.139781     0.032628   \nLotFrontage        -0.010601   -0.386347     1.000000  0.426095     0.251646   \nLotArea            -0.033226   -0.139781     0.426095  1.000000     0.105806   \nOverallQual        -0.028365    0.032628     0.251646  0.105806     1.000000   \n...                      ...         ...          ...       ...          ...   \nSaleType_fact      -0.016932    0.012874     0.006370 -0.013882     0.063406   \nSaleCondition_fact -0.017712   -0.015047     0.072517  0.000199     0.131870   \nYearBuilt_bins     -0.004446    0.060702     0.123288 -0.002666     0.638594   \nYearRemodAdd_bins  -0.011059    0.007560     0.102659  0.008646     0.552653   \nLotArea_bins       -0.005492   -0.348815     0.614534  0.490058     0.258423   \n\n                    OverallCond  YearBuilt  YearRemodAdd  MasVnrArea  \\\nId                     0.012609  -0.012713     -0.021998   -0.050298   \nMSSubClass            -0.059316   0.027850      0.040581    0.022936   \nLotFrontage           -0.059213   0.123349      0.088866    0.193458   \nLotArea               -0.005636   0.014228      0.013788    0.104160   \nOverallQual           -0.091932   0.572323      0.550684    0.411876   \n...                         ...        ...           ...         ...   \nSaleType_fact         -0.111267   0.077768      0.031197    0.030321   \nSaleCondition_fact    -0.144985   0.149704      0.117656    0.079835   \nYearBuilt_bins        -0.373655   0.966261      0.654709    0.311280   \nYearRemodAdd_bins      0.040634   0.596791      0.957067    0.180016   \nLotArea_bins          -0.038445   0.111897      0.085608    0.194837   \n\n                    BsmtFinSF1  ...  GarageCond_fact  PavedDrive_fact  \\\nId                   -0.005024  ...         0.008315         0.008921   \nMSSubClass           -0.069836  ...        -0.043787         0.025973   \nLotFrontage           0.233633  ...         0.028846        -0.073334   \nLotArea               0.214103  ...         0.021387        -0.002964   \nOverallQual           0.239666  ...         0.057696        -0.200702   \n...                        ...  ...              ...              ...   \nSaleType_fact         0.013870  ...        -0.048107        -0.021553   \nSaleCondition_fact    0.027785  ...        -0.015666        -0.049674   \nYearBuilt_bins        0.217949  ...        -0.029217        -0.345208   \nYearRemodAdd_bins     0.108697  ...        -0.060269        -0.193041   \nLotArea_bins          0.211477  ...         0.059604        -0.047143   \n\n                    PoolQC_fact  Fence_fact  MiscFeature_fact  SaleType_fact  \\\nId                     0.066509    0.005029         -0.014074      -0.016932   \nMSSubClass             0.010353   -0.080209         -0.016437       0.012874   \nLotFrontage            0.219815    0.037457          0.007872       0.006370   \nLotArea                0.093908   -0.030856          0.089707      -0.013882   \nOverallQual            0.057726   -0.129482         -0.083121       0.063406   \n...                         ...         ...               ...            ...   \nSaleType_fact         -0.002809   -0.027036          0.014543       1.000000   \nSaleCondition_fact     0.071651   -0.032209         -0.047231       0.232149   \nYearBuilt_bins         0.020926   -0.210661         -0.083638       0.098041   \nYearRemodAdd_bins      0.000678   -0.154813         -0.092477       0.070860   \nLotArea_bins           0.074433   -0.003544          0.064660       0.016362   \n\n                    SaleCondition_fact  YearBuilt_bins  YearRemodAdd_bins  \\\nId                           -0.017712       -0.004446          -0.011059   \nMSSubClass                   -0.015047        0.060702           0.007560   \nLotFrontage                   0.072517        0.123288           0.102659   \nLotArea                       0.000199       -0.002666           0.008646   \nOverallQual                   0.131870        0.638594           0.552653   \n...                                ...             ...                ...   \nSaleType_fact                 0.232149        0.098041           0.070860   \nSaleCondition_fact            1.000000        0.196815           0.188161   \nYearBuilt_bins                0.196815        1.000000           0.673144   \nYearRemodAdd_bins             0.188161        0.673144           1.000000   \nLotArea_bins                  0.036783        0.103435           0.080118   \n\n                    LotArea_bins  \nId                     -0.005492  \nMSSubClass             -0.348815  \nLotFrontage             0.614534  \nLotArea                 0.490058  \nOverallQual             0.258423  \n...                          ...  \nSaleType_fact           0.016362  \nSaleCondition_fact      0.036783  \nYearBuilt_bins          0.103435  \nYearRemodAdd_bins       0.080118  \nLotArea_bins            1.000000  \n\n[84 rows x 84 columns]",
      "text/html": "<div>\n<style scoped>\n    .dataframe tbody tr th:only-of-type {\n        vertical-align: middle;\n    }\n\n    .dataframe tbody tr th {\n        vertical-align: top;\n    }\n\n    .dataframe thead th {\n        text-align: right;\n    }\n</style>\n<table border=\"1\" class=\"dataframe\">\n  <thead>\n    <tr style=\"text-align: right;\">\n      <th></th>\n      <th>Id</th>\n      <th>MSSubClass</th>\n      <th>LotFrontage</th>\n      <th>LotArea</th>\n      <th>OverallQual</th>\n      <th>OverallCond</th>\n      <th>YearBuilt</th>\n      <th>YearRemodAdd</th>\n      <th>MasVnrArea</th>\n      <th>BsmtFinSF1</th>\n      <th>...</th>\n      <th>GarageCond_fact</th>\n      <th>PavedDrive_fact</th>\n      <th>PoolQC_fact</th>\n      <th>Fence_fact</th>\n      <th>MiscFeature_fact</th>\n      <th>SaleType_fact</th>\n      <th>SaleCondition_fact</th>\n      <th>YearBuilt_bins</th>\n      <th>YearRemodAdd_bins</th>\n      <th>LotArea_bins</th>\n    </tr>\n  </thead>\n  <tbody>\n    <tr>\n      <th>Id</th>\n      <td>1.000000</td>\n      <td>0.011156</td>\n      <td>-0.010601</td>\n      <td>-0.033226</td>\n      <td>-0.028365</td>\n      <td>0.012609</td>\n      <td>-0.012713</td>\n      <td>-0.021998</td>\n      <td>-0.050298</td>\n      <td>-0.005024</td>\n      <td>...</td>\n      <td>0.008315</td>\n      <td>0.008921</td>\n      <td>0.066509</td>\n      <td>0.005029</td>\n      <td>-0.014074</td>\n      <td>-0.016932</td>\n      <td>-0.017712</td>\n      <td>-0.004446</td>\n      <td>-0.011059</td>\n      <td>-0.005492</td>\n    </tr>\n    <tr>\n      <th>MSSubClass</th>\n      <td>0.011156</td>\n      <td>1.000000</td>\n      <td>-0.386347</td>\n      <td>-0.139781</td>\n      <td>0.032628</td>\n      <td>-0.059316</td>\n      <td>0.027850</td>\n      <td>0.040581</td>\n      <td>0.022936</td>\n      <td>-0.069836</td>\n      <td>...</td>\n      <td>-0.043787</td>\n      <td>0.025973</td>\n      <td>0.010353</td>\n      <td>-0.080209</td>\n      <td>-0.016437</td>\n      <td>0.012874</td>\n      <td>-0.015047</td>\n      <td>0.060702</td>\n      <td>0.007560</td>\n      <td>-0.348815</td>\n    </tr>\n    <tr>\n      <th>LotFrontage</th>\n      <td>-0.010601</td>\n      <td>-0.386347</td>\n      <td>1.000000</td>\n      <td>0.426095</td>\n      <td>0.251646</td>\n      <td>-0.059213</td>\n      <td>0.123349</td>\n      <td>0.088866</td>\n      <td>0.193458</td>\n      <td>0.233633</td>\n      <td>...</td>\n      <td>0.028846</td>\n      <td>-0.073334</td>\n      <td>0.219815</td>\n      <td>0.037457</td>\n      <td>0.007872</td>\n      <td>0.006370</td>\n      <td>0.072517</td>\n      <td>0.123288</td>\n      <td>0.102659</td>\n      <td>0.614534</td>\n    </tr>\n    <tr>\n      <th>LotArea</th>\n      <td>-0.033226</td>\n      <td>-0.139781</td>\n      <td>0.426095</td>\n      <td>1.000000</td>\n      <td>0.105806</td>\n      <td>-0.005636</td>\n      <td>0.014228</td>\n      <td>0.013788</td>\n      <td>0.104160</td>\n      <td>0.214103</td>\n      <td>...</td>\n      <td>0.021387</td>\n      <td>-0.002964</td>\n      <td>0.093908</td>\n      <td>-0.030856</td>\n      <td>0.089707</td>\n      <td>-0.013882</td>\n      <td>0.000199</td>\n      <td>-0.002666</td>\n      <td>0.008646</td>\n      <td>0.490058</td>\n    </tr>\n    <tr>\n      <th>OverallQual</th>\n      <td>-0.028365</td>\n      <td>0.032628</td>\n      <td>0.251646</td>\n      <td>0.105806</td>\n      <td>1.000000</td>\n      <td>-0.091932</td>\n      <td>0.572323</td>\n      <td>0.550684</td>\n      <td>0.411876</td>\n      <td>0.239666</td>\n      <td>...</td>\n      <td>0.057696</td>\n      <td>-0.200702</td>\n      <td>0.057726</td>\n      <td>-0.129482</td>\n      <td>-0.083121</td>\n      <td>0.063406</td>\n      <td>0.131870</td>\n      <td>0.638594</td>\n      <td>0.552653</td>\n      <td>0.258423</td>\n    </tr>\n    <tr>\n      <th>...</th>\n      <td>...</td>\n      <td>...</td>\n      <td>...</td>\n      <td>...</td>\n      <td>...</td>\n      <td>...</td>\n      <td>...</td>\n      <td>...</td>\n      <td>...</td>\n      <td>...</td>\n      <td>...</td>\n      <td>...</td>\n      <td>...</td>\n      <td>...</td>\n      <td>...</td>\n      <td>...</td>\n      <td>...</td>\n      <td>...</td>\n      <td>...</td>\n      <td>...</td>\n      <td>...</td>\n    </tr>\n    <tr>\n      <th>SaleType_fact</th>\n      <td>-0.016932</td>\n      <td>0.012874</td>\n      <td>0.006370</td>\n      <td>-0.013882</td>\n      <td>0.063406</td>\n      <td>-0.111267</td>\n      <td>0.077768</td>\n      <td>0.031197</td>\n      <td>0.030321</td>\n      <td>0.013870</td>\n      <td>...</td>\n      <td>-0.048107</td>\n      <td>-0.021553</td>\n      <td>-0.002809</td>\n      <td>-0.027036</td>\n      <td>0.014543</td>\n      <td>1.000000</td>\n      <td>0.232149</td>\n      <td>0.098041</td>\n      <td>0.070860</td>\n      <td>0.016362</td>\n    </tr>\n    <tr>\n      <th>SaleCondition_fact</th>\n      <td>-0.017712</td>\n      <td>-0.015047</td>\n      <td>0.072517</td>\n      <td>0.000199</td>\n      <td>0.131870</td>\n      <td>-0.144985</td>\n      <td>0.149704</td>\n      <td>0.117656</td>\n      <td>0.079835</td>\n      <td>0.027785</td>\n      <td>...</td>\n      <td>-0.015666</td>\n      <td>-0.049674</td>\n      <td>0.071651</td>\n      <td>-0.032209</td>\n      <td>-0.047231</td>\n      <td>0.232149</td>\n      <td>1.000000</td>\n      <td>0.196815</td>\n      <td>0.188161</td>\n      <td>0.036783</td>\n    </tr>\n    <tr>\n      <th>YearBuilt_bins</th>\n      <td>-0.004446</td>\n      <td>0.060702</td>\n      <td>0.123288</td>\n      <td>-0.002666</td>\n      <td>0.638594</td>\n      <td>-0.373655</td>\n      <td>0.966261</td>\n      <td>0.654709</td>\n      <td>0.311280</td>\n      <td>0.217949</td>\n      <td>...</td>\n      <td>-0.029217</td>\n      <td>-0.345208</td>\n      <td>0.020926</td>\n      <td>-0.210661</td>\n      <td>-0.083638</td>\n      <td>0.098041</td>\n      <td>0.196815</td>\n      <td>1.000000</td>\n      <td>0.673144</td>\n      <td>0.103435</td>\n    </tr>\n    <tr>\n      <th>YearRemodAdd_bins</th>\n      <td>-0.011059</td>\n      <td>0.007560</td>\n      <td>0.102659</td>\n      <td>0.008646</td>\n      <td>0.552653</td>\n      <td>0.040634</td>\n      <td>0.596791</td>\n      <td>0.957067</td>\n      <td>0.180016</td>\n      <td>0.108697</td>\n      <td>...</td>\n      <td>-0.060269</td>\n      <td>-0.193041</td>\n      <td>0.000678</td>\n      <td>-0.154813</td>\n      <td>-0.092477</td>\n      <td>0.070860</td>\n      <td>0.188161</td>\n      <td>0.673144</td>\n      <td>1.000000</td>\n      <td>0.080118</td>\n    </tr>\n    <tr>\n      <th>LotArea_bins</th>\n      <td>-0.005492</td>\n      <td>-0.348815</td>\n      <td>0.614534</td>\n      <td>0.490058</td>\n      <td>0.258423</td>\n      <td>-0.038445</td>\n      <td>0.111897</td>\n      <td>0.085608</td>\n      <td>0.194837</td>\n      <td>0.211477</td>\n      <td>...</td>\n      <td>0.059604</td>\n      <td>-0.047143</td>\n      <td>0.074433</td>\n      <td>-0.003544</td>\n      <td>0.064660</td>\n      <td>0.016362</td>\n      <td>0.036783</td>\n      <td>0.103435</td>\n      <td>0.080118</td>\n      <td>1.000000</td>\n    </tr>\n  </tbody>\n</table>\n<p>84 rows × 84 columns</p>\n</div>"
     },
     "execution_count": 178,
     "metadata": {},
     "output_type": "execute_result"
    }
   ],
   "source": [
    "corr: pd.DataFrame = train_df.corr()\n",
    "corr"
   ],
   "metadata": {
    "collapsed": false,
    "pycharm": {
     "name": "#%%\n"
    }
   }
  },
  {
   "cell_type": "code",
   "execution_count": 179,
   "outputs": [
    {
     "name": "stdout",
     "output_type": "stream",
     "text": [
      "0.06650900950191323\n",
      "0.7708396619425061\n",
      "0.6145343341427186\n",
      "0.49005802714485247\n",
      "0.7909816005838053\n",
      "0.22791158639694706\n",
      "0.9662605641251347\n",
      "0.9570671331398399\n",
      "0.47749304709571444\n",
      "0.6492117535742649\n",
      "0.7351647961785289\n",
      "0.4153596051815893\n",
      "0.8195299750050339\n",
      "0.8195299750050339\n",
      "0.6875010641666033\n",
      "0.2216633481235792\n",
      "0.8254893743088425\n",
      "0.6492117535742649\n",
      "0.1190481678808047\n",
      "0.6300116462511148\n",
      "0.6097073002717436\n",
      "0.676619935742649\n",
      "0.2817210402648814\n",
      "0.8254893743088425\n",
      "0.7243931381986498\n",
      "0.8543245226025343\n",
      "0.882475414281462\n",
      "0.882475414281462\n",
      "0.32441344456812926\n",
      "0.33022396171200064\n",
      "0.23451238644859992\n",
      "0.07002922773085365\n",
      "0.18453026951684842\n",
      "0.9384016221034005\n",
      "0.5478908301970202\n",
      "0.07125488475868938\n",
      "0.06808527703896494\n",
      "0.7909816005838053\n",
      "0.39926967855640855\n",
      "0.19713093862382264\n",
      "0.39926967855640855\n",
      "0.3487643352474657\n",
      "0.5072032466851077\n",
      "0.10814052632343978\n",
      "0.3080734084680183\n",
      "0.5072032466851077\n",
      "0.18419776547817274\n",
      "0.18917211091677272\n",
      "0.21312282128545232\n",
      "0.7708396619425061\n",
      "0.2216633481235792\n",
      "0.509732518830173\n",
      "0.509732518830173\n",
      "0.749599466187403\n",
      "0.749599466187403\n",
      "0.10595321497186926\n",
      "0.5283778807915541\n",
      "0.2066181784356022\n",
      "0.41945138520234926\n",
      "0.3239903117368141\n",
      "0.26441659387099\n",
      "0.2839701439448835\n",
      "0.2684201173897507\n",
      "0.7351647961785289\n",
      "0.4290667489995299\n",
      "0.41945138520234926\n",
      "0.4290667489995299\n",
      "0.29404815999672623\n",
      "0.5283778807915541\n",
      "0.17805954944579258\n",
      "0.7243931381986498\n",
      "0.30594728052116404\n",
      "0.36776872745565514\n",
      "0.7460167270151874\n",
      "0.7460167270151874\n",
      "0.2756601678998929\n",
      "0.9384016221034005\n",
      "0.1602347737065501\n",
      "0.5478908301970202\n",
      "0.23214863971558483\n",
      "0.23214863971558483\n",
      "0.9662605641251347\n",
      "0.9570671331398399\n",
      "0.6145343341427186\n"
     ]
    }
   ],
   "source": [
    "for col in train_df.columns:\n",
    "    if col in corr:\n",
    "        col_sorted = corr[col].sort_values(ascending=False)\n",
    "        print(col_sorted[1])"
   ],
   "metadata": {
    "collapsed": false,
    "pycharm": {
     "name": "#%%\n"
    }
   }
  },
  {
   "cell_type": "markdown",
   "source": [
    "# Nulls and uniqueness"
   ],
   "metadata": {
    "collapsed": false,
    "pycharm": {
     "name": "#%% md\n"
    }
   }
  },
  {
   "cell_type": "markdown",
   "source": [
    "- 17 columns with null values\n",
    "- Features differ a lot in number of unique values\n",
    "- TODO Strategy to fill missing values needed"
   ],
   "metadata": {
    "collapsed": false,
    "pycharm": {
     "name": "#%% md\n"
    }
   }
  },
  {
   "cell_type": "code",
   "execution_count": 180,
   "outputs": [
    {
     "data": {
      "text/plain": "Id                      0\nMSSubClass              0\nMSZoning                0\nLotFrontage           259\nLotArea                 0\n                     ... \nSaleType_fact           0\nSaleCondition_fact      0\nYearBuilt_bins          0\nYearRemodAdd_bins       0\nLotArea_bins            0\nLength: 127, dtype: int64"
     },
     "execution_count": 180,
     "metadata": {},
     "output_type": "execute_result"
    }
   ],
   "source": [
    "train_df.isnull().sum()"
   ],
   "metadata": {
    "collapsed": false,
    "pycharm": {
     "name": "#%%\n"
    }
   }
  },
  {
   "cell_type": "code",
   "execution_count": 181,
   "outputs": [
    {
     "data": {
      "text/plain": "Id                    1460\nMSSubClass              15\nMSZoning                 5\nLotFrontage            110\nLotArea               1073\n                      ... \nSaleType_fact            9\nSaleCondition_fact       6\nYearBuilt_bins          10\nYearRemodAdd_bins        8\nLotArea_bins            20\nLength: 127, dtype: int64"
     },
     "execution_count": 181,
     "metadata": {},
     "output_type": "execute_result"
    }
   ],
   "source": [
    "train_df.nunique()"
   ],
   "metadata": {
    "collapsed": false,
    "pycharm": {
     "name": "#%%\n"
    }
   }
  }
 ],
 "metadata": {
  "kernelspec": {
   "display_name": "Python 3",
   "language": "python",
   "name": "python3"
  },
  "language_info": {
   "codemirror_mode": {
    "name": "ipython",
    "version": 2
   },
   "file_extension": ".py",
   "mimetype": "text/x-python",
   "name": "python",
   "nbconvert_exporter": "python",
   "pygments_lexer": "ipython2",
   "version": "2.7.6"
  }
 },
 "nbformat": 4,
 "nbformat_minor": 0
}